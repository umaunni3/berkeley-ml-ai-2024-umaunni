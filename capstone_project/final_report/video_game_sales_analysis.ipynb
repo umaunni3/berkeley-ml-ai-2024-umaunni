{
  "nbformat": 4,
  "nbformat_minor": 0,
  "metadata": {
    "colab": {
      "provenance": []
    },
    "kernelspec": {
      "name": "python3",
      "display_name": "Python 3"
    },
    "language_info": {
      "name": "python"
    }
  },
  "cells": [
    {
      "cell_type": "code",
      "execution_count": 43,
      "metadata": {
        "id": "PCKxmWmWDnKI"
      },
      "outputs": [],
      "source": [
        "import pandas as pd\n",
        "import sklearn\n",
        "import matplotlib.pyplot as plt\n",
        "import numpy as np\n",
        "import plotly.express as px\n",
        "import seaborn as sns\n",
        "\n",
        "# Sklearn utilities\n",
        "from sklearn.model_selection import train_test_split, GridSearchCV\n",
        "from sklearn.pipeline import Pipeline\n",
        "from sklearn.preprocessing import OneHotEncoder, PolynomialFeatures\n",
        "from sklearn.metrics import mean_squared_error, mean_absolute_error\n",
        "from sklearn.compose import make_column_selector, make_column_transformer, ColumnTransformer\n",
        "\n",
        "# Sklearn models\n",
        "from sklearn.linear_model import LinearRegression, Ridge, Lasso\n",
        "from sklearn.tree import DecisionTreeRegressor\n",
        "\n",
        "# Keras\n",
        "import tensorflow as tf\n",
        "from sklearn.model_selection import train_test_split\n",
        "from sklearn.preprocessing import StandardScaler\n",
        "from tensorflow.keras.models import Sequential\n",
        "from tensorflow.keras.layers import Dense, Dropout\n",
        "from tensorflow.keras.callbacks import EarlyStopping\n",
        "from tensorflow.keras.regularizers import l2"
      ]
    },
    {
      "cell_type": "markdown",
      "source": [
        "Directory layout of data:\n",
        "```\n",
        "data\n",
        "|--- vgsales\n",
        "     |--- vgsales.csv\n",
        "```"
      ],
      "metadata": {
        "id": "yYTSFR2u5yCW"
      }
    },
    {
      "cell_type": "code",
      "source": [
        "import warnings\n",
        "warnings.filterwarnings('ignore') # To keep the final notebook clean"
      ],
      "metadata": {
        "id": "255O7ptdLHVU"
      },
      "execution_count": 44,
      "outputs": []
    },
    {
      "cell_type": "markdown",
      "source": [
        "# Reading in + inspecting the data"
      ],
      "metadata": {
        "id": "81INfYaADxxx"
      }
    },
    {
      "cell_type": "markdown",
      "source": [
        "We'll start by reading in the video game sales data and examining the available features."
      ],
      "metadata": {
        "id": "5x1E1ouS4eTV"
      }
    },
    {
      "cell_type": "code",
      "source": [
        "# Read in data\n",
        "vgsales = pd.read_csv('/content/data/vgsales/vgsales.csv')"
      ],
      "metadata": {
        "id": "mTK1TnIWaDEX"
      },
      "execution_count": 45,
      "outputs": []
    },
    {
      "cell_type": "code",
      "source": [
        "vgsales.head()"
      ],
      "metadata": {
        "colab": {
          "base_uri": "https://localhost:8080/",
          "height": 295
        },
        "id": "9dPcCpcWacy2",
        "outputId": "830f30fa-2747-43d1-c4cc-d25feb2fa376"
      },
      "execution_count": 46,
      "outputs": [
        {
          "output_type": "execute_result",
          "data": {
            "text/plain": [
              "   Rank                      Name Platform    Year         Genre Publisher  \\\n",
              "0     1                Wii Sports      Wii  2006.0        Sports  Nintendo   \n",
              "1     2         Super Mario Bros.      NES  1985.0      Platform  Nintendo   \n",
              "2     3            Mario Kart Wii      Wii  2008.0        Racing  Nintendo   \n",
              "3     4         Wii Sports Resort      Wii  2009.0        Sports  Nintendo   \n",
              "4     5  Pokemon Red/Pokemon Blue       GB  1996.0  Role-Playing  Nintendo   \n",
              "\n",
              "   NA_Sales  EU_Sales  JP_Sales  Other_Sales  Global_Sales  \n",
              "0     41.49     29.02      3.77         8.46         82.74  \n",
              "1     29.08      3.58      6.81         0.77         40.24  \n",
              "2     15.85     12.88      3.79         3.31         35.82  \n",
              "3     15.75     11.01      3.28         2.96         33.00  \n",
              "4     11.27      8.89     10.22         1.00         31.37  "
            ],
            "text/html": [
              "\n",
              "  <div id=\"df-e742c9e1-2cd4-4418-8172-b89a47411e7a\" class=\"colab-df-container\">\n",
              "    <div>\n",
              "<style scoped>\n",
              "    .dataframe tbody tr th:only-of-type {\n",
              "        vertical-align: middle;\n",
              "    }\n",
              "\n",
              "    .dataframe tbody tr th {\n",
              "        vertical-align: top;\n",
              "    }\n",
              "\n",
              "    .dataframe thead th {\n",
              "        text-align: right;\n",
              "    }\n",
              "</style>\n",
              "<table border=\"1\" class=\"dataframe\">\n",
              "  <thead>\n",
              "    <tr style=\"text-align: right;\">\n",
              "      <th></th>\n",
              "      <th>Rank</th>\n",
              "      <th>Name</th>\n",
              "      <th>Platform</th>\n",
              "      <th>Year</th>\n",
              "      <th>Genre</th>\n",
              "      <th>Publisher</th>\n",
              "      <th>NA_Sales</th>\n",
              "      <th>EU_Sales</th>\n",
              "      <th>JP_Sales</th>\n",
              "      <th>Other_Sales</th>\n",
              "      <th>Global_Sales</th>\n",
              "    </tr>\n",
              "  </thead>\n",
              "  <tbody>\n",
              "    <tr>\n",
              "      <th>0</th>\n",
              "      <td>1</td>\n",
              "      <td>Wii Sports</td>\n",
              "      <td>Wii</td>\n",
              "      <td>2006.0</td>\n",
              "      <td>Sports</td>\n",
              "      <td>Nintendo</td>\n",
              "      <td>41.49</td>\n",
              "      <td>29.02</td>\n",
              "      <td>3.77</td>\n",
              "      <td>8.46</td>\n",
              "      <td>82.74</td>\n",
              "    </tr>\n",
              "    <tr>\n",
              "      <th>1</th>\n",
              "      <td>2</td>\n",
              "      <td>Super Mario Bros.</td>\n",
              "      <td>NES</td>\n",
              "      <td>1985.0</td>\n",
              "      <td>Platform</td>\n",
              "      <td>Nintendo</td>\n",
              "      <td>29.08</td>\n",
              "      <td>3.58</td>\n",
              "      <td>6.81</td>\n",
              "      <td>0.77</td>\n",
              "      <td>40.24</td>\n",
              "    </tr>\n",
              "    <tr>\n",
              "      <th>2</th>\n",
              "      <td>3</td>\n",
              "      <td>Mario Kart Wii</td>\n",
              "      <td>Wii</td>\n",
              "      <td>2008.0</td>\n",
              "      <td>Racing</td>\n",
              "      <td>Nintendo</td>\n",
              "      <td>15.85</td>\n",
              "      <td>12.88</td>\n",
              "      <td>3.79</td>\n",
              "      <td>3.31</td>\n",
              "      <td>35.82</td>\n",
              "    </tr>\n",
              "    <tr>\n",
              "      <th>3</th>\n",
              "      <td>4</td>\n",
              "      <td>Wii Sports Resort</td>\n",
              "      <td>Wii</td>\n",
              "      <td>2009.0</td>\n",
              "      <td>Sports</td>\n",
              "      <td>Nintendo</td>\n",
              "      <td>15.75</td>\n",
              "      <td>11.01</td>\n",
              "      <td>3.28</td>\n",
              "      <td>2.96</td>\n",
              "      <td>33.00</td>\n",
              "    </tr>\n",
              "    <tr>\n",
              "      <th>4</th>\n",
              "      <td>5</td>\n",
              "      <td>Pokemon Red/Pokemon Blue</td>\n",
              "      <td>GB</td>\n",
              "      <td>1996.0</td>\n",
              "      <td>Role-Playing</td>\n",
              "      <td>Nintendo</td>\n",
              "      <td>11.27</td>\n",
              "      <td>8.89</td>\n",
              "      <td>10.22</td>\n",
              "      <td>1.00</td>\n",
              "      <td>31.37</td>\n",
              "    </tr>\n",
              "  </tbody>\n",
              "</table>\n",
              "</div>\n",
              "    <div class=\"colab-df-buttons\">\n",
              "\n",
              "  <div class=\"colab-df-container\">\n",
              "    <button class=\"colab-df-convert\" onclick=\"convertToInteractive('df-e742c9e1-2cd4-4418-8172-b89a47411e7a')\"\n",
              "            title=\"Convert this dataframe to an interactive table.\"\n",
              "            style=\"display:none;\">\n",
              "\n",
              "  <svg xmlns=\"http://www.w3.org/2000/svg\" height=\"24px\" viewBox=\"0 -960 960 960\">\n",
              "    <path d=\"M120-120v-720h720v720H120Zm60-500h600v-160H180v160Zm220 220h160v-160H400v160Zm0 220h160v-160H400v160ZM180-400h160v-160H180v160Zm440 0h160v-160H620v160ZM180-180h160v-160H180v160Zm440 0h160v-160H620v160Z\"/>\n",
              "  </svg>\n",
              "    </button>\n",
              "\n",
              "  <style>\n",
              "    .colab-df-container {\n",
              "      display:flex;\n",
              "      gap: 12px;\n",
              "    }\n",
              "\n",
              "    .colab-df-convert {\n",
              "      background-color: #E8F0FE;\n",
              "      border: none;\n",
              "      border-radius: 50%;\n",
              "      cursor: pointer;\n",
              "      display: none;\n",
              "      fill: #1967D2;\n",
              "      height: 32px;\n",
              "      padding: 0 0 0 0;\n",
              "      width: 32px;\n",
              "    }\n",
              "\n",
              "    .colab-df-convert:hover {\n",
              "      background-color: #E2EBFA;\n",
              "      box-shadow: 0px 1px 2px rgba(60, 64, 67, 0.3), 0px 1px 3px 1px rgba(60, 64, 67, 0.15);\n",
              "      fill: #174EA6;\n",
              "    }\n",
              "\n",
              "    .colab-df-buttons div {\n",
              "      margin-bottom: 4px;\n",
              "    }\n",
              "\n",
              "    [theme=dark] .colab-df-convert {\n",
              "      background-color: #3B4455;\n",
              "      fill: #D2E3FC;\n",
              "    }\n",
              "\n",
              "    [theme=dark] .colab-df-convert:hover {\n",
              "      background-color: #434B5C;\n",
              "      box-shadow: 0px 1px 3px 1px rgba(0, 0, 0, 0.15);\n",
              "      filter: drop-shadow(0px 1px 2px rgba(0, 0, 0, 0.3));\n",
              "      fill: #FFFFFF;\n",
              "    }\n",
              "  </style>\n",
              "\n",
              "    <script>\n",
              "      const buttonEl =\n",
              "        document.querySelector('#df-e742c9e1-2cd4-4418-8172-b89a47411e7a button.colab-df-convert');\n",
              "      buttonEl.style.display =\n",
              "        google.colab.kernel.accessAllowed ? 'block' : 'none';\n",
              "\n",
              "      async function convertToInteractive(key) {\n",
              "        const element = document.querySelector('#df-e742c9e1-2cd4-4418-8172-b89a47411e7a');\n",
              "        const dataTable =\n",
              "          await google.colab.kernel.invokeFunction('convertToInteractive',\n",
              "                                                    [key], {});\n",
              "        if (!dataTable) return;\n",
              "\n",
              "        const docLinkHtml = 'Like what you see? Visit the ' +\n",
              "          '<a target=\"_blank\" href=https://colab.research.google.com/notebooks/data_table.ipynb>data table notebook</a>'\n",
              "          + ' to learn more about interactive tables.';\n",
              "        element.innerHTML = '';\n",
              "        dataTable['output_type'] = 'display_data';\n",
              "        await google.colab.output.renderOutput(dataTable, element);\n",
              "        const docLink = document.createElement('div');\n",
              "        docLink.innerHTML = docLinkHtml;\n",
              "        element.appendChild(docLink);\n",
              "      }\n",
              "    </script>\n",
              "  </div>\n",
              "\n",
              "\n",
              "<div id=\"df-51b442c6-346e-427c-b9c1-4e4559384263\">\n",
              "  <button class=\"colab-df-quickchart\" onclick=\"quickchart('df-51b442c6-346e-427c-b9c1-4e4559384263')\"\n",
              "            title=\"Suggest charts\"\n",
              "            style=\"display:none;\">\n",
              "\n",
              "<svg xmlns=\"http://www.w3.org/2000/svg\" height=\"24px\"viewBox=\"0 0 24 24\"\n",
              "     width=\"24px\">\n",
              "    <g>\n",
              "        <path d=\"M19 3H5c-1.1 0-2 .9-2 2v14c0 1.1.9 2 2 2h14c1.1 0 2-.9 2-2V5c0-1.1-.9-2-2-2zM9 17H7v-7h2v7zm4 0h-2V7h2v10zm4 0h-2v-4h2v4z\"/>\n",
              "    </g>\n",
              "</svg>\n",
              "  </button>\n",
              "\n",
              "<style>\n",
              "  .colab-df-quickchart {\n",
              "      --bg-color: #E8F0FE;\n",
              "      --fill-color: #1967D2;\n",
              "      --hover-bg-color: #E2EBFA;\n",
              "      --hover-fill-color: #174EA6;\n",
              "      --disabled-fill-color: #AAA;\n",
              "      --disabled-bg-color: #DDD;\n",
              "  }\n",
              "\n",
              "  [theme=dark] .colab-df-quickchart {\n",
              "      --bg-color: #3B4455;\n",
              "      --fill-color: #D2E3FC;\n",
              "      --hover-bg-color: #434B5C;\n",
              "      --hover-fill-color: #FFFFFF;\n",
              "      --disabled-bg-color: #3B4455;\n",
              "      --disabled-fill-color: #666;\n",
              "  }\n",
              "\n",
              "  .colab-df-quickchart {\n",
              "    background-color: var(--bg-color);\n",
              "    border: none;\n",
              "    border-radius: 50%;\n",
              "    cursor: pointer;\n",
              "    display: none;\n",
              "    fill: var(--fill-color);\n",
              "    height: 32px;\n",
              "    padding: 0;\n",
              "    width: 32px;\n",
              "  }\n",
              "\n",
              "  .colab-df-quickchart:hover {\n",
              "    background-color: var(--hover-bg-color);\n",
              "    box-shadow: 0 1px 2px rgba(60, 64, 67, 0.3), 0 1px 3px 1px rgba(60, 64, 67, 0.15);\n",
              "    fill: var(--button-hover-fill-color);\n",
              "  }\n",
              "\n",
              "  .colab-df-quickchart-complete:disabled,\n",
              "  .colab-df-quickchart-complete:disabled:hover {\n",
              "    background-color: var(--disabled-bg-color);\n",
              "    fill: var(--disabled-fill-color);\n",
              "    box-shadow: none;\n",
              "  }\n",
              "\n",
              "  .colab-df-spinner {\n",
              "    border: 2px solid var(--fill-color);\n",
              "    border-color: transparent;\n",
              "    border-bottom-color: var(--fill-color);\n",
              "    animation:\n",
              "      spin 1s steps(1) infinite;\n",
              "  }\n",
              "\n",
              "  @keyframes spin {\n",
              "    0% {\n",
              "      border-color: transparent;\n",
              "      border-bottom-color: var(--fill-color);\n",
              "      border-left-color: var(--fill-color);\n",
              "    }\n",
              "    20% {\n",
              "      border-color: transparent;\n",
              "      border-left-color: var(--fill-color);\n",
              "      border-top-color: var(--fill-color);\n",
              "    }\n",
              "    30% {\n",
              "      border-color: transparent;\n",
              "      border-left-color: var(--fill-color);\n",
              "      border-top-color: var(--fill-color);\n",
              "      border-right-color: var(--fill-color);\n",
              "    }\n",
              "    40% {\n",
              "      border-color: transparent;\n",
              "      border-right-color: var(--fill-color);\n",
              "      border-top-color: var(--fill-color);\n",
              "    }\n",
              "    60% {\n",
              "      border-color: transparent;\n",
              "      border-right-color: var(--fill-color);\n",
              "    }\n",
              "    80% {\n",
              "      border-color: transparent;\n",
              "      border-right-color: var(--fill-color);\n",
              "      border-bottom-color: var(--fill-color);\n",
              "    }\n",
              "    90% {\n",
              "      border-color: transparent;\n",
              "      border-bottom-color: var(--fill-color);\n",
              "    }\n",
              "  }\n",
              "</style>\n",
              "\n",
              "  <script>\n",
              "    async function quickchart(key) {\n",
              "      const quickchartButtonEl =\n",
              "        document.querySelector('#' + key + ' button');\n",
              "      quickchartButtonEl.disabled = true;  // To prevent multiple clicks.\n",
              "      quickchartButtonEl.classList.add('colab-df-spinner');\n",
              "      try {\n",
              "        const charts = await google.colab.kernel.invokeFunction(\n",
              "            'suggestCharts', [key], {});\n",
              "      } catch (error) {\n",
              "        console.error('Error during call to suggestCharts:', error);\n",
              "      }\n",
              "      quickchartButtonEl.classList.remove('colab-df-spinner');\n",
              "      quickchartButtonEl.classList.add('colab-df-quickchart-complete');\n",
              "    }\n",
              "    (() => {\n",
              "      let quickchartButtonEl =\n",
              "        document.querySelector('#df-51b442c6-346e-427c-b9c1-4e4559384263 button');\n",
              "      quickchartButtonEl.style.display =\n",
              "        google.colab.kernel.accessAllowed ? 'block' : 'none';\n",
              "    })();\n",
              "  </script>\n",
              "</div>\n",
              "\n",
              "    </div>\n",
              "  </div>\n"
            ],
            "application/vnd.google.colaboratory.intrinsic+json": {
              "type": "dataframe",
              "variable_name": "vgsales",
              "summary": "{\n  \"name\": \"vgsales\",\n  \"rows\": 16598,\n  \"fields\": [\n    {\n      \"column\": \"Rank\",\n      \"properties\": {\n        \"dtype\": \"number\",\n        \"std\": 4791,\n        \"min\": 1,\n        \"max\": 16600,\n        \"num_unique_values\": 16598,\n        \"samples\": [\n          8930,\n          4791,\n          15495\n        ],\n        \"semantic_type\": \"\",\n        \"description\": \"\"\n      }\n    },\n    {\n      \"column\": \"Name\",\n      \"properties\": {\n        \"dtype\": \"string\",\n        \"num_unique_values\": 11493,\n        \"samples\": [\n          \"Close Combat: First to Fight\",\n          \"Rock 'N Roll Racing\",\n          \"Hakuouki\"\n        ],\n        \"semantic_type\": \"\",\n        \"description\": \"\"\n      }\n    },\n    {\n      \"column\": \"Platform\",\n      \"properties\": {\n        \"dtype\": \"category\",\n        \"num_unique_values\": 31,\n        \"samples\": [\n          \"TG16\",\n          \"2600\",\n          \"SAT\"\n        ],\n        \"semantic_type\": \"\",\n        \"description\": \"\"\n      }\n    },\n    {\n      \"column\": \"Year\",\n      \"properties\": {\n        \"dtype\": \"number\",\n        \"std\": 5.828981114712785,\n        \"min\": 1980.0,\n        \"max\": 2020.0,\n        \"num_unique_values\": 39,\n        \"samples\": [\n          1981.0,\n          1983.0,\n          1996.0\n        ],\n        \"semantic_type\": \"\",\n        \"description\": \"\"\n      }\n    },\n    {\n      \"column\": \"Genre\",\n      \"properties\": {\n        \"dtype\": \"category\",\n        \"num_unique_values\": 12,\n        \"samples\": [\n          \"Adventure\",\n          \"Fighting\",\n          \"Sports\"\n        ],\n        \"semantic_type\": \"\",\n        \"description\": \"\"\n      }\n    },\n    {\n      \"column\": \"Publisher\",\n      \"properties\": {\n        \"dtype\": \"category\",\n        \"num_unique_values\": 578,\n        \"samples\": [\n          \"JoWood Productions\",\n          \"Takuyo\",\n          \"Kamui\"\n        ],\n        \"semantic_type\": \"\",\n        \"description\": \"\"\n      }\n    },\n    {\n      \"column\": \"NA_Sales\",\n      \"properties\": {\n        \"dtype\": \"number\",\n        \"std\": 0.8166830292990428,\n        \"min\": 0.0,\n        \"max\": 41.49,\n        \"num_unique_values\": 409,\n        \"samples\": [\n          1.7,\n          2.97,\n          3.92\n        ],\n        \"semantic_type\": \"\",\n        \"description\": \"\"\n      }\n    },\n    {\n      \"column\": \"EU_Sales\",\n      \"properties\": {\n        \"dtype\": \"number\",\n        \"std\": 0.5053512312869366,\n        \"min\": 0.0,\n        \"max\": 29.02,\n        \"num_unique_values\": 305,\n        \"samples\": [\n          1.15,\n          0.98,\n          2.25\n        ],\n        \"semantic_type\": \"\",\n        \"description\": \"\"\n      }\n    },\n    {\n      \"column\": \"JP_Sales\",\n      \"properties\": {\n        \"dtype\": \"number\",\n        \"std\": 0.30929064808213236,\n        \"min\": 0.0,\n        \"max\": 10.22,\n        \"num_unique_values\": 244,\n        \"samples\": [\n          0.47,\n          6.5,\n          2.1\n        ],\n        \"semantic_type\": \"\",\n        \"description\": \"\"\n      }\n    },\n    {\n      \"column\": \"Other_Sales\",\n      \"properties\": {\n        \"dtype\": \"number\",\n        \"std\": 0.18858840291278392,\n        \"min\": 0.0,\n        \"max\": 10.57,\n        \"num_unique_values\": 157,\n        \"samples\": [\n          0.38,\n          0.23,\n          0.48\n        ],\n        \"semantic_type\": \"\",\n        \"description\": \"\"\n      }\n    },\n    {\n      \"column\": \"Global_Sales\",\n      \"properties\": {\n        \"dtype\": \"number\",\n        \"std\": 1.5550279355699022,\n        \"min\": 0.01,\n        \"max\": 82.74,\n        \"num_unique_values\": 623,\n        \"samples\": [\n          3.91,\n          0.65,\n          5.11\n        ],\n        \"semantic_type\": \"\",\n        \"description\": \"\"\n      }\n    }\n  ]\n}"
            }
          },
          "metadata": {},
          "execution_count": 46
        }
      ]
    },
    {
      "cell_type": "code",
      "source": [
        "vgsales.info()"
      ],
      "metadata": {
        "colab": {
          "base_uri": "https://localhost:8080/"
        },
        "id": "rqbPU41sahMZ",
        "outputId": "568cec02-ae51-4d91-8f6b-cf528946b36e"
      },
      "execution_count": 47,
      "outputs": [
        {
          "output_type": "stream",
          "name": "stdout",
          "text": [
            "<class 'pandas.core.frame.DataFrame'>\n",
            "RangeIndex: 16598 entries, 0 to 16597\n",
            "Data columns (total 11 columns):\n",
            " #   Column        Non-Null Count  Dtype  \n",
            "---  ------        --------------  -----  \n",
            " 0   Rank          16598 non-null  int64  \n",
            " 1   Name          16598 non-null  object \n",
            " 2   Platform      16598 non-null  object \n",
            " 3   Year          16327 non-null  float64\n",
            " 4   Genre         16598 non-null  object \n",
            " 5   Publisher     16540 non-null  object \n",
            " 6   NA_Sales      16598 non-null  float64\n",
            " 7   EU_Sales      16598 non-null  float64\n",
            " 8   JP_Sales      16598 non-null  float64\n",
            " 9   Other_Sales   16598 non-null  float64\n",
            " 10  Global_Sales  16598 non-null  float64\n",
            "dtypes: float64(6), int64(1), object(4)\n",
            "memory usage: 1.4+ MB\n"
          ]
        }
      ]
    },
    {
      "cell_type": "markdown",
      "source": [
        "# Data preprocessing"
      ],
      "metadata": {
        "id": "hyrdVcU3D22M"
      }
    },
    {
      "cell_type": "markdown",
      "source": [
        "Fortunately, the data is fairly complete! However, there are a few areas for cleanup and improvement that I identified during my data exploration--below is a walkthrough of the steps I took to process my data and add useful new features."
      ],
      "metadata": {
        "id": "4Havue9g4l9J"
      }
    },
    {
      "cell_type": "markdown",
      "source": [
        "We start by dropping all rows containing nulls in any important columns."
      ],
      "metadata": {
        "id": "eIUUV1wNKSRV"
      }
    },
    {
      "cell_type": "code",
      "source": [
        "# Drop rows with nulls in any important columns\n",
        "vgsales = vgsales.dropna(subset=['Year', 'Publisher', 'Name', 'Global_Sales'])\n",
        "\n",
        "# Recast 'Year' from string to int\n",
        "vgsales['Year'] = vgsales['Year'].astype(int)"
      ],
      "metadata": {
        "id": "BC4NPySvImuI"
      },
      "execution_count": 48,
      "outputs": []
    },
    {
      "cell_type": "markdown",
      "source": [
        "## Restricting date range for dataset\n",
        "\n",
        "I noticed that the total volume of games sold (and thus the total revenue) increased significantly between the 90s and the 2000s onward. While this could itself pose an interesting time series problem, my main focus in this analysis is to predict sales for new games published from today onwards. So, to keep the numbers within a consistent range and avoid confusing my later models, I've chosen to restrict the year range. I've selected this range based on the graph generated below:"
      ],
      "metadata": {
        "id": "EJ9FuByzHC1S"
      }
    },
    {
      "cell_type": "code",
      "source": [
        "# Calculate the total video game sales for each year in the dataset, and put into a dict\n",
        "min_year = vgsales['Year'].min()\n",
        "max_year = vgsales['Year'].max()\n",
        "\n",
        "sales_per_year = {}\n",
        "for y in range(min_year, max_year+1):\n",
        "  # Pull out all records from the vgsales df from that year, and sum up their Global_Sales column\n",
        "  relevant_records = vgsales[vgsales['Year']==y]\n",
        "  total = relevant_records['Year'].sum()\n",
        "  sales_per_year[int(y)] = total"
      ],
      "metadata": {
        "id": "w3sToHnIh7Ng"
      },
      "execution_count": 49,
      "outputs": []
    },
    {
      "cell_type": "code",
      "source": [
        "sales_per_year_df = pd.DataFrame({'Year': sales_per_year.keys(), 'Sales': sales_per_year.values()})\n",
        "plt.plot(sales_per_year_df['Year'], sales_per_year_df['Sales'])\n",
        "plt.xlabel(\"Year\")\n",
        "plt.ylabel(\"Global Sales\")\n",
        "plt.title(\"Aggregate Video Game Global Sales by Year\")\n",
        "plt.show()"
      ],
      "metadata": {
        "id": "CSRVxmYxkNMD",
        "colab": {
          "base_uri": "https://localhost:8080/",
          "height": 472
        },
        "outputId": "07f86ffd-082b-4241-e223-7930b4d73a45"
      },
      "execution_count": 50,
      "outputs": [
        {
          "output_type": "display_data",
          "data": {
            "text/plain": [
              "<Figure size 640x480 with 1 Axes>"
            ],
            "image/png": "[encoded data removed]"
          },
          "metadata": {}
        }
      ]
    },
    {
      "cell_type": "markdown",
      "source": [
        "From this, I've decided to subset down to the range 2002-2015. (I believe the lack of games from 2016 onwards is due to incompleteness in the dataset I'm working with, so unfortunately I've had to exclude 2016 onwards)."
      ],
      "metadata": {
        "id": "c_DTJ25UH909"
      }
    },
    {
      "cell_type": "code",
      "source": [
        "vgsales = vgsales[(vgsales['Year'] >= 2002) & (vgsales['Year'] <= 2015)]"
      ],
      "metadata": {
        "id": "4ofvKOkXIPr7"
      },
      "execution_count": 51,
      "outputs": []
    },
    {
      "cell_type": "markdown",
      "source": [
        "## Consolidating repeat entries for publishers\n",
        "\n",
        "While exploring the data, I noticed that some publishers are listed multiple times under slight variations (e.g. Sony Computer Entertainment, Sony Computer Entertainment Europe, etc). For our purposes, we care more about the publishers as an overarching brand where applicable, so I've added a step to consolidate the publisher column for a few major publishers."
      ],
      "metadata": {
        "id": "uo3jxB8QE7XJ"
      }
    },
    {
      "cell_type": "code",
      "source": [
        "unique_publishers = vgsales['Publisher'].unique()"
      ],
      "metadata": {
        "id": "E7QB6nf10977"
      },
      "execution_count": 52,
      "outputs": []
    },
    {
      "cell_type": "code",
      "source": [
        "[p for p in list(unique_publishers) if 'Ubisoft' in p]"
      ],
      "metadata": {
        "colab": {
          "base_uri": "https://localhost:8080/"
        },
        "id": "J73yymla1LEe",
        "outputId": "bcc9eefa-b3dc-4acd-9cf5-f363dd785583"
      },
      "execution_count": 53,
      "outputs": [
        {
          "output_type": "execute_result",
          "data": {
            "text/plain": [
              "['Ubisoft', 'Ubisoft Annecy']"
            ]
          },
          "metadata": {},
          "execution_count": 53
        }
      ]
    },
    {
      "cell_type": "code",
      "source": [
        "[p for p in list(unique_publishers) if 'Sony' in p]"
      ],
      "metadata": {
        "colab": {
          "base_uri": "https://localhost:8080/"
        },
        "id": "HRlKV-ph3MZY",
        "outputId": "f04aa2cf-8d31-446f-b1f8-fad1699c5d59"
      },
      "execution_count": 54,
      "outputs": [
        {
          "output_type": "execute_result",
          "data": {
            "text/plain": [
              "['Sony Computer Entertainment',\n",
              " 'Sony Computer Entertainment Europe',\n",
              " 'Sony Online Entertainment',\n",
              " 'Sony Computer Entertainment America']"
            ]
          },
          "metadata": {},
          "execution_count": 54
        }
      ]
    },
    {
      "cell_type": "markdown",
      "source": [
        "There might be a benefit from consolidating all the Ubisoft and Sony ones respectively."
      ],
      "metadata": {
        "id": "787oVjXB4EHL"
      }
    },
    {
      "cell_type": "code",
      "source": [
        "def pub_mapper(name):\n",
        "  if 'Sony' in name:\n",
        "    return 'Sony'\n",
        "  elif 'Ubisoft' in name:\n",
        "    return 'Ubisoft'\n",
        "  return name\n",
        "vgsales['Publisher_Consolidated'] = vgsales.apply(lambda x: pub_mapper(x[5]), axis=1, raw=True)"
      ],
      "metadata": {
        "id": "bKtJPAQv3tlT"
      },
      "execution_count": 55,
      "outputs": []
    },
    {
      "cell_type": "markdown",
      "source": [
        "## Adding a 'Franchise' feature\n",
        "\n",
        "Many games are released as part of a franchise (e.g. Super Mario games, FIFA games, Pokemon games), and games within the same franchise tend to sell similarly to one another. Additionally, games from popular franchises (like the examples listed above) tend to sell better than other games, so this could be a useful bit of information for regression models. Below, I've manually constructed a list of the top most popular franchises from [Wikipedia](https://en.wikipedia.org/wiki/List_of_best-selling_video_game_franchises), and set up some code to add a new 'Franchise' column to the dataset."
      ],
      "metadata": {
        "id": "o1Lttw6rFkHT"
      }
    },
    {
      "cell_type": "code",
      "source": [
        "unique_names = vgsales['Name'].unique()\n",
        "unique_names"
      ],
      "metadata": {
        "colab": {
          "base_uri": "https://localhost:8080/"
        },
        "id": "pLkLI6mL76tR",
        "outputId": "9af8adbc-afc2-4792-b538-6de3bf796620"
      },
      "execution_count": 56,
      "outputs": [
        {
          "output_type": "execute_result",
          "data": {
            "text/plain": [
              "array(['Wii Sports', 'Mario Kart Wii', 'Wii Sports Resort', ...,\n",
              "       'Plushees', 'Woody Woodpecker in Crazy Castle 5', 'Know How 2'],\n",
              "      dtype=object)"
            ]
          },
          "metadata": {},
          "execution_count": 56
        }
      ]
    },
    {
      "cell_type": "code",
      "source": [
        "# Manually construct a list of some of the most popular franchises (from https://en.wikipedia.org/wiki/List_of_best-selling_video_game_franchises)\n",
        "franchises = ['Pokemon',\n",
        "              'Fire Emblem',\n",
        "              'Wii Sports',\n",
        "              'Mario Kart',\n",
        "              'Super Mario',\n",
        "              'Mario',\n",
        "              'Kirby',\n",
        "              'Metroid',\n",
        "              'Tetris',\n",
        "              'Grand Theft Auto',\n",
        "              'Call of Duty',\n",
        "              'FIFA',\n",
        "              'Minecraft',\n",
        "              'Final Fantasy',\n",
        "              \"Assassin's Creed\",\n",
        "              \"Sonic\",\n",
        "              \"Resident Evil\",\n",
        "              \"Zelda\",\n",
        "              \"NBA\",\n",
        "              \"Madden\",\n",
        "              \"Star Wars\",\n",
        "              \"Monster Hunter\"\n",
        "              ]\n",
        "print(\"Games in each franchise\")\n",
        "for f in franchises:\n",
        "  ct = len([n for n in unique_names if f in n])\n",
        "  print(f\"{f}: {ct}\")"
      ],
      "metadata": {
        "colab": {
          "base_uri": "https://localhost:8080/"
        },
        "id": "h92SYszE86zk",
        "outputId": "2a7a761e-cf70-4292-a022-dad464b5760c"
      },
      "execution_count": 57,
      "outputs": [
        {
          "output_type": "stream",
          "name": "stdout",
          "text": [
            "Games in each franchise\n",
            "Pokemon: 28\n",
            "Fire Emblem: 10\n",
            "Wii Sports: 3\n",
            "Mario Kart: 6\n",
            "Super Mario: 18\n",
            "Mario: 71\n",
            "Kirby: 12\n",
            "Metroid: 10\n",
            "Tetris: 9\n",
            "Grand Theft Auto: 10\n",
            "Call of Duty: 19\n",
            "FIFA: 29\n",
            "Minecraft: 2\n",
            "Final Fantasy: 50\n",
            "Assassin's Creed: 14\n",
            "Sonic: 39\n",
            "Resident Evil: 23\n",
            "Zelda: 14\n",
            "NBA: 56\n",
            "Madden: 16\n",
            "Star Wars: 37\n",
            "Monster Hunter: 16\n"
          ]
        }
      ]
    },
    {
      "cell_type": "code",
      "source": [
        "# Use this function with df.apply to create a new column of franchises\n",
        "def add_franchise(title):\n",
        "  for f in franchises:\n",
        "    if f in title:\n",
        "      return f\n",
        "  return \"\"\n",
        "\n",
        "vgsales['Franchise'] = vgsales.apply(lambda x: add_franchise(x[1]), raw=True, axis=1)"
      ],
      "metadata": {
        "id": "cC6o2U3W83A6"
      },
      "execution_count": 58,
      "outputs": []
    },
    {
      "cell_type": "markdown",
      "source": [
        "## Adding a 'Title Length' feature\n",
        "As another attempt to extract meaningful info from the title feature, I'm adding a feature containing the length of each game's title. I believe this feature could really go either way in terms of predicting game sales--some great games have had somewhat long titles (e.g. most Zelda games), but a lot of classic and iconic games also had very short games (Tetris, Wii Sports). We'll see how the models make use of this feature, if at all!"
      ],
      "metadata": {
        "id": "EpYJfKGoGbL5"
      }
    },
    {
      "cell_type": "code",
      "source": [
        "vgsales['Title_Length'] = vgsales.apply(lambda x: len(x[1]), raw=True, axis=1)\n",
        "vgsales.head()"
      ],
      "metadata": {
        "colab": {
          "base_uri": "https://localhost:8080/",
          "height": 382
        },
        "id": "XjLvBTj1G5p6",
        "outputId": "1bda1e3e-b858-4c2f-a163-358e10dc7286"
      },
      "execution_count": 59,
      "outputs": [
        {
          "output_type": "execute_result",
          "data": {
            "text/plain": [
              "   Rank                   Name Platform  Year     Genre Publisher  NA_Sales  \\\n",
              "0     1             Wii Sports      Wii  2006    Sports  Nintendo     41.49   \n",
              "2     3         Mario Kart Wii      Wii  2008    Racing  Nintendo     15.85   \n",
              "3     4      Wii Sports Resort      Wii  2009    Sports  Nintendo     15.75   \n",
              "6     7  New Super Mario Bros.       DS  2006  Platform  Nintendo     11.38   \n",
              "7     8               Wii Play      Wii  2006      Misc  Nintendo     14.03   \n",
              "\n",
              "   EU_Sales  JP_Sales  Other_Sales  Global_Sales Publisher_Consolidated  \\\n",
              "0     29.02      3.77         8.46         82.74               Nintendo   \n",
              "2     12.88      3.79         3.31         35.82               Nintendo   \n",
              "3     11.01      3.28         2.96         33.00               Nintendo   \n",
              "6      9.23      6.50         2.90         30.01               Nintendo   \n",
              "7      9.20      2.93         2.85         29.02               Nintendo   \n",
              "\n",
              "     Franchise  Title_Length  \n",
              "0   Wii Sports            10  \n",
              "2   Mario Kart            14  \n",
              "3   Wii Sports            17  \n",
              "6  Super Mario            21  \n",
              "7                          8  "
            ],
            "text/html": [
              "\n",
              "  <div id=\"df-35b32529-6ace-4e79-9038-32bea94b8d6a\" class=\"colab-df-container\">\n",
              "    <div>\n",
              "<style scoped>\n",
              "    .dataframe tbody tr th:only-of-type {\n",
              "        vertical-align: middle;\n",
              "    }\n",
              "\n",
              "    .dataframe tbody tr th {\n",
              "        vertical-align: top;\n",
              "    }\n",
              "\n",
              "    .dataframe thead th {\n",
              "        text-align: right;\n",
              "    }\n",
              "</style>\n",
              "<table border=\"1\" class=\"dataframe\">\n",
              "  <thead>\n",
              "    <tr style=\"text-align: right;\">\n",
              "      <th></th>\n",
              "      <th>Rank</th>\n",
              "      <th>Name</th>\n",
              "      <th>Platform</th>\n",
              "      <th>Year</th>\n",
              "      <th>Genre</th>\n",
              "      <th>Publisher</th>\n",
              "      <th>NA_Sales</th>\n",
              "      <th>EU_Sales</th>\n",
              "      <th>JP_Sales</th>\n",
              "      <th>Other_Sales</th>\n",
              "      <th>Global_Sales</th>\n",
              "      <th>Publisher_Consolidated</th>\n",
              "      <th>Franchise</th>\n",
              "      <th>Title_Length</th>\n",
              "    </tr>\n",
              "  </thead>\n",
              "  <tbody>\n",
              "    <tr>\n",
              "      <th>0</th>\n",
              "      <td>1</td>\n",
              "      <td>Wii Sports</td>\n",
              "      <td>Wii</td>\n",
              "      <td>2006</td>\n",
              "      <td>Sports</td>\n",
              "      <td>Nintendo</td>\n",
              "      <td>41.49</td>\n",
              "      <td>29.02</td>\n",
              "      <td>3.77</td>\n",
              "      <td>8.46</td>\n",
              "      <td>82.74</td>\n",
              "      <td>Nintendo</td>\n",
              "      <td>Wii Sports</td>\n",
              "      <td>10</td>\n",
              "    </tr>\n",
              "    <tr>\n",
              "      <th>2</th>\n",
              "      <td>3</td>\n",
              "      <td>Mario Kart Wii</td>\n",
              "      <td>Wii</td>\n",
              "      <td>2008</td>\n",
              "      <td>Racing</td>\n",
              "      <td>Nintendo</td>\n",
              "      <td>15.85</td>\n",
              "      <td>12.88</td>\n",
              "      <td>3.79</td>\n",
              "      <td>3.31</td>\n",
              "      <td>35.82</td>\n",
              "      <td>Nintendo</td>\n",
              "      <td>Mario Kart</td>\n",
              "      <td>14</td>\n",
              "    </tr>\n",
              "    <tr>\n",
              "      <th>3</th>\n",
              "      <td>4</td>\n",
              "      <td>Wii Sports Resort</td>\n",
              "      <td>Wii</td>\n",
              "      <td>2009</td>\n",
              "      <td>Sports</td>\n",
              "      <td>Nintendo</td>\n",
              "      <td>15.75</td>\n",
              "      <td>11.01</td>\n",
              "      <td>3.28</td>\n",
              "      <td>2.96</td>\n",
              "      <td>33.00</td>\n",
              "      <td>Nintendo</td>\n",
              "      <td>Wii Sports</td>\n",
              "      <td>17</td>\n",
              "    </tr>\n",
              "    <tr>\n",
              "      <th>6</th>\n",
              "      <td>7</td>\n",
              "      <td>New Super Mario Bros.</td>\n",
              "      <td>DS</td>\n",
              "      <td>2006</td>\n",
              "      <td>Platform</td>\n",
              "      <td>Nintendo</td>\n",
              "      <td>11.38</td>\n",
              "      <td>9.23</td>\n",
              "      <td>6.50</td>\n",
              "      <td>2.90</td>\n",
              "      <td>30.01</td>\n",
              "      <td>Nintendo</td>\n",
              "      <td>Super Mario</td>\n",
              "      <td>21</td>\n",
              "    </tr>\n",
              "    <tr>\n",
              "      <th>7</th>\n",
              "      <td>8</td>\n",
              "      <td>Wii Play</td>\n",
              "      <td>Wii</td>\n",
              "      <td>2006</td>\n",
              "      <td>Misc</td>\n",
              "      <td>Nintendo</td>\n",
              "      <td>14.03</td>\n",
              "      <td>9.20</td>\n",
              "      <td>2.93</td>\n",
              "      <td>2.85</td>\n",
              "      <td>29.02</td>\n",
              "      <td>Nintendo</td>\n",
              "      <td></td>\n",
              "      <td>8</td>\n",
              "    </tr>\n",
              "  </tbody>\n",
              "</table>\n",
              "</div>\n",
              "    <div class=\"colab-df-buttons\">\n",
              "\n",
              "  <div class=\"colab-df-container\">\n",
              "    <button class=\"colab-df-convert\" onclick=\"convertToInteractive('df-35b32529-6ace-4e79-9038-32bea94b8d6a')\"\n",
              "            title=\"Convert this dataframe to an interactive table.\"\n",
              "            style=\"display:none;\">\n",
              "\n",
              "  <svg xmlns=\"http://www.w3.org/2000/svg\" height=\"24px\" viewBox=\"0 -960 960 960\">\n",
              "    <path d=\"M120-120v-720h720v720H120Zm60-500h600v-160H180v160Zm220 220h160v-160H400v160Zm0 220h160v-160H400v160ZM180-400h160v-160H180v160Zm440 0h160v-160H620v160ZM180-180h160v-160H180v160Zm440 0h160v-160H620v160Z\"/>\n",
              "  </svg>\n",
              "    </button>\n",
              "\n",
              "  <style>\n",
              "    .colab-df-container {\n",
              "      display:flex;\n",
              "      gap: 12px;\n",
              "    }\n",
              "\n",
              "    .colab-df-convert {\n",
              "      background-color: #E8F0FE;\n",
              "      border: none;\n",
              "      border-radius: 50%;\n",
              "      cursor: pointer;\n",
              "      display: none;\n",
              "      fill: #1967D2;\n",
              "      height: 32px;\n",
              "      padding: 0 0 0 0;\n",
              "      width: 32px;\n",
              "    }\n",
              "\n",
              "    .colab-df-convert:hover {\n",
              "      background-color: #E2EBFA;\n",
              "      box-shadow: 0px 1px 2px rgba(60, 64, 67, 0.3), 0px 1px 3px 1px rgba(60, 64, 67, 0.15);\n",
              "      fill: #174EA6;\n",
              "    }\n",
              "\n",
              "    .colab-df-buttons div {\n",
              "      margin-bottom: 4px;\n",
              "    }\n",
              "\n",
              "    [theme=dark] .colab-df-convert {\n",
              "      background-color: #3B4455;\n",
              "      fill: #D2E3FC;\n",
              "    }\n",
              "\n",
              "    [theme=dark] .colab-df-convert:hover {\n",
              "      background-color: #434B5C;\n",
              "      box-shadow: 0px 1px 3px 1px rgba(0, 0, 0, 0.15);\n",
              "      filter: drop-shadow(0px 1px 2px rgba(0, 0, 0, 0.3));\n",
              "      fill: #FFFFFF;\n",
              "    }\n",
              "  </style>\n",
              "\n",
              "    <script>\n",
              "      const buttonEl =\n",
              "        document.querySelector('#df-35b32529-6ace-4e79-9038-32bea94b8d6a button.colab-df-convert');\n",
              "      buttonEl.style.display =\n",
              "        google.colab.kernel.accessAllowed ? 'block' : 'none';\n",
              "\n",
              "      async function convertToInteractive(key) {\n",
              "        const element = document.querySelector('#df-35b32529-6ace-4e79-9038-32bea94b8d6a');\n",
              "        const dataTable =\n",
              "          await google.colab.kernel.invokeFunction('convertToInteractive',\n",
              "                                                    [key], {});\n",
              "        if (!dataTable) return;\n",
              "\n",
              "        const docLinkHtml = 'Like what you see? Visit the ' +\n",
              "          '<a target=\"_blank\" href=https://colab.research.google.com/notebooks/data_table.ipynb>data table notebook</a>'\n",
              "          + ' to learn more about interactive tables.';\n",
              "        element.innerHTML = '';\n",
              "        dataTable['output_type'] = 'display_data';\n",
              "        await google.colab.output.renderOutput(dataTable, element);\n",
              "        const docLink = document.createElement('div');\n",
              "        docLink.innerHTML = docLinkHtml;\n",
              "        element.appendChild(docLink);\n",
              "      }\n",
              "    </script>\n",
              "  </div>\n",
              "\n",
              "\n",
              "<div id=\"df-8a4c503d-0c32-4038-85a2-3040398fc07a\">\n",
              "  <button class=\"colab-df-quickchart\" onclick=\"quickchart('df-8a4c503d-0c32-4038-85a2-3040398fc07a')\"\n",
              "            title=\"Suggest charts\"\n",
              "            style=\"display:none;\">\n",
              "\n",
              "<svg xmlns=\"http://www.w3.org/2000/svg\" height=\"24px\"viewBox=\"0 0 24 24\"\n",
              "     width=\"24px\">\n",
              "    <g>\n",
              "        <path d=\"M19 3H5c-1.1 0-2 .9-2 2v14c0 1.1.9 2 2 2h14c1.1 0 2-.9 2-2V5c0-1.1-.9-2-2-2zM9 17H7v-7h2v7zm4 0h-2V7h2v10zm4 0h-2v-4h2v4z\"/>\n",
              "    </g>\n",
              "</svg>\n",
              "  </button>\n",
              "\n",
              "<style>\n",
              "  .colab-df-quickchart {\n",
              "      --bg-color: #E8F0FE;\n",
              "      --fill-color: #1967D2;\n",
              "      --hover-bg-color: #E2EBFA;\n",
              "      --hover-fill-color: #174EA6;\n",
              "      --disabled-fill-color: #AAA;\n",
              "      --disabled-bg-color: #DDD;\n",
              "  }\n",
              "\n",
              "  [theme=dark] .colab-df-quickchart {\n",
              "      --bg-color: #3B4455;\n",
              "      --fill-color: #D2E3FC;\n",
              "      --hover-bg-color: #434B5C;\n",
              "      --hover-fill-color: #FFFFFF;\n",
              "      --disabled-bg-color: #3B4455;\n",
              "      --disabled-fill-color: #666;\n",
              "  }\n",
              "\n",
              "  .colab-df-quickchart {\n",
              "    background-color: var(--bg-color);\n",
              "    border: none;\n",
              "    border-radius: 50%;\n",
              "    cursor: pointer;\n",
              "    display: none;\n",
              "    fill: var(--fill-color);\n",
              "    height: 32px;\n",
              "    padding: 0;\n",
              "    width: 32px;\n",
              "  }\n",
              "\n",
              "  .colab-df-quickchart:hover {\n",
              "    background-color: var(--hover-bg-color);\n",
              "    box-shadow: 0 1px 2px rgba(60, 64, 67, 0.3), 0 1px 3px 1px rgba(60, 64, 67, 0.15);\n",
              "    fill: var(--button-hover-fill-color);\n",
              "  }\n",
              "\n",
              "  .colab-df-quickchart-complete:disabled,\n",
              "  .colab-df-quickchart-complete:disabled:hover {\n",
              "    background-color: var(--disabled-bg-color);\n",
              "    fill: var(--disabled-fill-color);\n",
              "    box-shadow: none;\n",
              "  }\n",
              "\n",
              "  .colab-df-spinner {\n",
              "    border: 2px solid var(--fill-color);\n",
              "    border-color: transparent;\n",
              "    border-bottom-color: var(--fill-color);\n",
              "    animation:\n",
              "      spin 1s steps(1) infinite;\n",
              "  }\n",
              "\n",
              "  @keyframes spin {\n",
              "    0% {\n",
              "      border-color: transparent;\n",
              "      border-bottom-color: var(--fill-color);\n",
              "      border-left-color: var(--fill-color);\n",
              "    }\n",
              "    20% {\n",
              "      border-color: transparent;\n",
              "      border-left-color: var(--fill-color);\n",
              "      border-top-color: var(--fill-color);\n",
              "    }\n",
              "    30% {\n",
              "      border-color: transparent;\n",
              "      border-left-color: var(--fill-color);\n",
              "      border-top-color: var(--fill-color);\n",
              "      border-right-color: var(--fill-color);\n",
              "    }\n",
              "    40% {\n",
              "      border-color: transparent;\n",
              "      border-right-color: var(--fill-color);\n",
              "      border-top-color: var(--fill-color);\n",
              "    }\n",
              "    60% {\n",
              "      border-color: transparent;\n",
              "      border-right-color: var(--fill-color);\n",
              "    }\n",
              "    80% {\n",
              "      border-color: transparent;\n",
              "      border-right-color: var(--fill-color);\n",
              "      border-bottom-color: var(--fill-color);\n",
              "    }\n",
              "    90% {\n",
              "      border-color: transparent;\n",
              "      border-bottom-color: var(--fill-color);\n",
              "    }\n",
              "  }\n",
              "</style>\n",
              "\n",
              "  <script>\n",
              "    async function quickchart(key) {\n",
              "      const quickchartButtonEl =\n",
              "        document.querySelector('#' + key + ' button');\n",
              "      quickchartButtonEl.disabled = true;  // To prevent multiple clicks.\n",
              "      quickchartButtonEl.classList.add('colab-df-spinner');\n",
              "      try {\n",
              "        const charts = await google.colab.kernel.invokeFunction(\n",
              "            'suggestCharts', [key], {});\n",
              "      } catch (error) {\n",
              "        console.error('Error during call to suggestCharts:', error);\n",
              "      }\n",
              "      quickchartButtonEl.classList.remove('colab-df-spinner');\n",
              "      quickchartButtonEl.classList.add('colab-df-quickchart-complete');\n",
              "    }\n",
              "    (() => {\n",
              "      let quickchartButtonEl =\n",
              "        document.querySelector('#df-8a4c503d-0c32-4038-85a2-3040398fc07a button');\n",
              "      quickchartButtonEl.style.display =\n",
              "        google.colab.kernel.accessAllowed ? 'block' : 'none';\n",
              "    })();\n",
              "  </script>\n",
              "</div>\n",
              "\n",
              "    </div>\n",
              "  </div>\n"
            ],
            "application/vnd.google.colaboratory.intrinsic+json": {
              "type": "dataframe",
              "variable_name": "vgsales",
              "summary": "{\n  \"name\": \"vgsales\",\n  \"rows\": 13140,\n  \"fields\": [\n    {\n      \"column\": \"Rank\",\n      \"properties\": {\n        \"dtype\": \"number\",\n        \"std\": 4784,\n        \"min\": 1,\n        \"max\": 16600,\n        \"num_unique_values\": 13140,\n        \"samples\": [\n          8204,\n          3759,\n          11463\n        ],\n        \"semantic_type\": \"\",\n        \"description\": \"\"\n      }\n    },\n    {\n      \"column\": \"Name\",\n      \"properties\": {\n        \"dtype\": \"string\",\n        \"num_unique_values\": 8728,\n        \"samples\": [\n          \"Bulletstorm\",\n          \"Brain Exercise With Dr. Kawashima\",\n          \"Camp Rock: The Final Jam\"\n        ],\n        \"semantic_type\": \"\",\n        \"description\": \"\"\n      }\n    },\n    {\n      \"column\": \"Platform\",\n      \"properties\": {\n        \"dtype\": \"category\",\n        \"num_unique_values\": 18,\n        \"samples\": [\n          \"Wii\",\n          \"DS\",\n          \"XB\"\n        ],\n        \"semantic_type\": \"\",\n        \"description\": \"\"\n      }\n    },\n    {\n      \"column\": \"Year\",\n      \"properties\": {\n        \"dtype\": \"number\",\n        \"std\": 3,\n        \"min\": 2002,\n        \"max\": 2015,\n        \"num_unique_values\": 14,\n        \"samples\": [\n          2011,\n          2012,\n          2006\n        ],\n        \"semantic_type\": \"\",\n        \"description\": \"\"\n      }\n    },\n    {\n      \"column\": \"Genre\",\n      \"properties\": {\n        \"dtype\": \"category\",\n        \"num_unique_values\": 12,\n        \"samples\": [\n          \"Adventure\",\n          \"Fighting\",\n          \"Sports\"\n        ],\n        \"semantic_type\": \"\",\n        \"description\": \"\"\n      }\n    },\n    {\n      \"column\": \"Publisher\",\n      \"properties\": {\n        \"dtype\": \"category\",\n        \"num_unique_values\": 420,\n        \"samples\": [\n          \"Hamster Corporation\",\n          \"Fields\",\n          \"bitComposer Games\"\n        ],\n        \"semantic_type\": \"\",\n        \"description\": \"\"\n      }\n    },\n    {\n      \"column\": \"NA_Sales\",\n      \"properties\": {\n        \"dtype\": \"number\",\n        \"std\": 0.7302690831865475,\n        \"min\": 0.0,\n        \"max\": 41.49,\n        \"num_unique_values\": 348,\n        \"samples\": [\n          0.3,\n          0.65,\n          0.94\n        ],\n        \"semantic_type\": \"\",\n        \"description\": \"\"\n      }\n    },\n    {\n      \"column\": \"EU_Sales\",\n      \"properties\": {\n        \"dtype\": \"number\",\n        \"std\": 0.5282963985621045,\n        \"min\": 0.0,\n        \"max\": 29.02,\n        \"num_unique_values\": 281,\n        \"samples\": [\n          2.77,\n          0.04,\n          0.15\n        ],\n        \"semantic_type\": \"\",\n        \"description\": \"\"\n      }\n    },\n    {\n      \"column\": \"JP_Sales\",\n      \"properties\": {\n        \"dtype\": \"number\",\n        \"std\": 0.24966727021757024,\n        \"min\": 0.0,\n        \"max\": 6.5,\n        \"num_unique_values\": 177,\n        \"samples\": [\n          5.32,\n          0.04,\n          1.21\n        ],\n        \"semantic_type\": \"\",\n        \"description\": \"\"\n      }\n    },\n    {\n      \"column\": \"Other_Sales\",\n      \"properties\": {\n        \"dtype\": \"number\",\n        \"std\": 0.20761093996315266,\n        \"min\": 0.0,\n        \"max\": 10.57,\n        \"num_unique_values\": 155,\n        \"samples\": [\n          0.07,\n          0.1,\n          0.89\n        ],\n        \"semantic_type\": \"\",\n        \"description\": \"\"\n      }\n    },\n    {\n      \"column\": \"Global_Sales\",\n      \"properties\": {\n        \"dtype\": \"number\",\n        \"std\": 1.505368130254066,\n        \"min\": 0.01,\n        \"max\": 82.74,\n        \"num_unique_values\": 540,\n        \"samples\": [\n          3.27,\n          7.27,\n          0.19\n        ],\n        \"semantic_type\": \"\",\n        \"description\": \"\"\n      }\n    },\n    {\n      \"column\": \"Publisher_Consolidated\",\n      \"properties\": {\n        \"dtype\": \"category\",\n        \"num_unique_values\": 416,\n        \"samples\": [\n          \"Detn8 Games\",\n          \"Ertain\",\n          \"Otomate\"\n        ],\n        \"semantic_type\": \"\",\n        \"description\": \"\"\n      }\n    },\n    {\n      \"column\": \"Franchise\",\n      \"properties\": {\n        \"dtype\": \"category\",\n        \"num_unique_values\": 23,\n        \"samples\": [\n          \"Resident Evil\",\n          \"FIFA\",\n          \"Wii Sports\"\n        ],\n        \"semantic_type\": \"\",\n        \"description\": \"\"\n      }\n    },\n    {\n      \"column\": \"Title_Length\",\n      \"properties\": {\n        \"dtype\": \"number\",\n        \"std\": 12,\n        \"min\": 2,\n        \"max\": 132,\n        \"num_unique_values\": 103,\n        \"samples\": [\n          35,\n          2,\n          55\n        ],\n        \"semantic_type\": \"\",\n        \"description\": \"\"\n      }\n    }\n  ]\n}"
            }
          },
          "metadata": {},
          "execution_count": 59
        }
      ]
    },
    {
      "cell_type": "code",
      "source": [
        "# Let's see what our dataframe looks like after all the cleaning and feature engineering\n",
        "vgsales.head()"
      ],
      "metadata": {
        "colab": {
          "base_uri": "https://localhost:8080/",
          "height": 382
        },
        "id": "ePuhA9NpG6By",
        "outputId": "2d1c76d9-1eb5-43bb-8ac6-76370f9e16b6"
      },
      "execution_count": 60,
      "outputs": [
        {
          "output_type": "execute_result",
          "data": {
            "text/plain": [
              "   Rank                   Name Platform  Year     Genre Publisher  NA_Sales  \\\n",
              "0     1             Wii Sports      Wii  2006    Sports  Nintendo     41.49   \n",
              "2     3         Mario Kart Wii      Wii  2008    Racing  Nintendo     15.85   \n",
              "3     4      Wii Sports Resort      Wii  2009    Sports  Nintendo     15.75   \n",
              "6     7  New Super Mario Bros.       DS  2006  Platform  Nintendo     11.38   \n",
              "7     8               Wii Play      Wii  2006      Misc  Nintendo     14.03   \n",
              "\n",
              "   EU_Sales  JP_Sales  Other_Sales  Global_Sales Publisher_Consolidated  \\\n",
              "0     29.02      3.77         8.46         82.74               Nintendo   \n",
              "2     12.88      3.79         3.31         35.82               Nintendo   \n",
              "3     11.01      3.28         2.96         33.00               Nintendo   \n",
              "6      9.23      6.50         2.90         30.01               Nintendo   \n",
              "7      9.20      2.93         2.85         29.02               Nintendo   \n",
              "\n",
              "     Franchise  Title_Length  \n",
              "0   Wii Sports            10  \n",
              "2   Mario Kart            14  \n",
              "3   Wii Sports            17  \n",
              "6  Super Mario            21  \n",
              "7                          8  "
            ],
            "text/html": [
              "\n",
              "  <div id=\"df-92beea94-ea4c-4f46-a239-fbab25cd05d5\" class=\"colab-df-container\">\n",
              "    <div>\n",
              "<style scoped>\n",
              "    .dataframe tbody tr th:only-of-type {\n",
              "        vertical-align: middle;\n",
              "    }\n",
              "\n",
              "    .dataframe tbody tr th {\n",
              "        vertical-align: top;\n",
              "    }\n",
              "\n",
              "    .dataframe thead th {\n",
              "        text-align: right;\n",
              "    }\n",
              "</style>\n",
              "<table border=\"1\" class=\"dataframe\">\n",
              "  <thead>\n",
              "    <tr style=\"text-align: right;\">\n",
              "      <th></th>\n",
              "      <th>Rank</th>\n",
              "      <th>Name</th>\n",
              "      <th>Platform</th>\n",
              "      <th>Year</th>\n",
              "      <th>Genre</th>\n",
              "      <th>Publisher</th>\n",
              "      <th>NA_Sales</th>\n",
              "      <th>EU_Sales</th>\n",
              "      <th>JP_Sales</th>\n",
              "      <th>Other_Sales</th>\n",
              "      <th>Global_Sales</th>\n",
              "      <th>Publisher_Consolidated</th>\n",
              "      <th>Franchise</th>\n",
              "      <th>Title_Length</th>\n",
              "    </tr>\n",
              "  </thead>\n",
              "  <tbody>\n",
              "    <tr>\n",
              "      <th>0</th>\n",
              "      <td>1</td>\n",
              "      <td>Wii Sports</td>\n",
              "      <td>Wii</td>\n",
              "      <td>2006</td>\n",
              "      <td>Sports</td>\n",
              "      <td>Nintendo</td>\n",
              "      <td>41.49</td>\n",
              "      <td>29.02</td>\n",
              "      <td>3.77</td>\n",
              "      <td>8.46</td>\n",
              "      <td>82.74</td>\n",
              "      <td>Nintendo</td>\n",
              "      <td>Wii Sports</td>\n",
              "      <td>10</td>\n",
              "    </tr>\n",
              "    <tr>\n",
              "      <th>2</th>\n",
              "      <td>3</td>\n",
              "      <td>Mario Kart Wii</td>\n",
              "      <td>Wii</td>\n",
              "      <td>2008</td>\n",
              "      <td>Racing</td>\n",
              "      <td>Nintendo</td>\n",
              "      <td>15.85</td>\n",
              "      <td>12.88</td>\n",
              "      <td>3.79</td>\n",
              "      <td>3.31</td>\n",
              "      <td>35.82</td>\n",
              "      <td>Nintendo</td>\n",
              "      <td>Mario Kart</td>\n",
              "      <td>14</td>\n",
              "    </tr>\n",
              "    <tr>\n",
              "      <th>3</th>\n",
              "      <td>4</td>\n",
              "      <td>Wii Sports Resort</td>\n",
              "      <td>Wii</td>\n",
              "      <td>2009</td>\n",
              "      <td>Sports</td>\n",
              "      <td>Nintendo</td>\n",
              "      <td>15.75</td>\n",
              "      <td>11.01</td>\n",
              "      <td>3.28</td>\n",
              "      <td>2.96</td>\n",
              "      <td>33.00</td>\n",
              "      <td>Nintendo</td>\n",
              "      <td>Wii Sports</td>\n",
              "      <td>17</td>\n",
              "    </tr>\n",
              "    <tr>\n",
              "      <th>6</th>\n",
              "      <td>7</td>\n",
              "      <td>New Super Mario Bros.</td>\n",
              "      <td>DS</td>\n",
              "      <td>2006</td>\n",
              "      <td>Platform</td>\n",
              "      <td>Nintendo</td>\n",
              "      <td>11.38</td>\n",
              "      <td>9.23</td>\n",
              "      <td>6.50</td>\n",
              "      <td>2.90</td>\n",
              "      <td>30.01</td>\n",
              "      <td>Nintendo</td>\n",
              "      <td>Super Mario</td>\n",
              "      <td>21</td>\n",
              "    </tr>\n",
              "    <tr>\n",
              "      <th>7</th>\n",
              "      <td>8</td>\n",
              "      <td>Wii Play</td>\n",
              "      <td>Wii</td>\n",
              "      <td>2006</td>\n",
              "      <td>Misc</td>\n",
              "      <td>Nintendo</td>\n",
              "      <td>14.03</td>\n",
              "      <td>9.20</td>\n",
              "      <td>2.93</td>\n",
              "      <td>2.85</td>\n",
              "      <td>29.02</td>\n",
              "      <td>Nintendo</td>\n",
              "      <td></td>\n",
              "      <td>8</td>\n",
              "    </tr>\n",
              "  </tbody>\n",
              "</table>\n",
              "</div>\n",
              "    <div class=\"colab-df-buttons\">\n",
              "\n",
              "  <div class=\"colab-df-container\">\n",
              "    <button class=\"colab-df-convert\" onclick=\"convertToInteractive('df-92beea94-ea4c-4f46-a239-fbab25cd05d5')\"\n",
              "            title=\"Convert this dataframe to an interactive table.\"\n",
              "            style=\"display:none;\">\n",
              "\n",
              "  <svg xmlns=\"http://www.w3.org/2000/svg\" height=\"24px\" viewBox=\"0 -960 960 960\">\n",
              "    <path d=\"M120-120v-720h720v720H120Zm60-500h600v-160H180v160Zm220 220h160v-160H400v160Zm0 220h160v-160H400v160ZM180-400h160v-160H180v160Zm440 0h160v-160H620v160ZM180-180h160v-160H180v160Zm440 0h160v-160H620v160Z\"/>\n",
              "  </svg>\n",
              "    </button>\n",
              "\n",
              "  <style>\n",
              "    .colab-df-container {\n",
              "      display:flex;\n",
              "      gap: 12px;\n",
              "    }\n",
              "\n",
              "    .colab-df-convert {\n",
              "      background-color: #E8F0FE;\n",
              "      border: none;\n",
              "      border-radius: 50%;\n",
              "      cursor: pointer;\n",
              "      display: none;\n",
              "      fill: #1967D2;\n",
              "      height: 32px;\n",
              "      padding: 0 0 0 0;\n",
              "      width: 32px;\n",
              "    }\n",
              "\n",
              "    .colab-df-convert:hover {\n",
              "      background-color: #E2EBFA;\n",
              "      box-shadow: 0px 1px 2px rgba(60, 64, 67, 0.3), 0px 1px 3px 1px rgba(60, 64, 67, 0.15);\n",
              "      fill: #174EA6;\n",
              "    }\n",
              "\n",
              "    .colab-df-buttons div {\n",
              "      margin-bottom: 4px;\n",
              "    }\n",
              "\n",
              "    [theme=dark] .colab-df-convert {\n",
              "      background-color: #3B4455;\n",
              "      fill: #D2E3FC;\n",
              "    }\n",
              "\n",
              "    [theme=dark] .colab-df-convert:hover {\n",
              "      background-color: #434B5C;\n",
              "      box-shadow: 0px 1px 3px 1px rgba(0, 0, 0, 0.15);\n",
              "      filter: drop-shadow(0px 1px 2px rgba(0, 0, 0, 0.3));\n",
              "      fill: #FFFFFF;\n",
              "    }\n",
              "  </style>\n",
              "\n",
              "    <script>\n",
              "      const buttonEl =\n",
              "        document.querySelector('#df-92beea94-ea4c-4f46-a239-fbab25cd05d5 button.colab-df-convert');\n",
              "      buttonEl.style.display =\n",
              "        google.colab.kernel.accessAllowed ? 'block' : 'none';\n",
              "\n",
              "      async function convertToInteractive(key) {\n",
              "        const element = document.querySelector('#df-92beea94-ea4c-4f46-a239-fbab25cd05d5');\n",
              "        const dataTable =\n",
              "          await google.colab.kernel.invokeFunction('convertToInteractive',\n",
              "                                                    [key], {});\n",
              "        if (!dataTable) return;\n",
              "\n",
              "        const docLinkHtml = 'Like what you see? Visit the ' +\n",
              "          '<a target=\"_blank\" href=https://colab.research.google.com/notebooks/data_table.ipynb>data table notebook</a>'\n",
              "          + ' to learn more about interactive tables.';\n",
              "        element.innerHTML = '';\n",
              "        dataTable['output_type'] = 'display_data';\n",
              "        await google.colab.output.renderOutput(dataTable, element);\n",
              "        const docLink = document.createElement('div');\n",
              "        docLink.innerHTML = docLinkHtml;\n",
              "        element.appendChild(docLink);\n",
              "      }\n",
              "    </script>\n",
              "  </div>\n",
              "\n",
              "\n",
              "<div id=\"df-d6fe7dd3-9fd4-4047-a188-c7d16193424e\">\n",
              "  <button class=\"colab-df-quickchart\" onclick=\"quickchart('df-d6fe7dd3-9fd4-4047-a188-c7d16193424e')\"\n",
              "            title=\"Suggest charts\"\n",
              "            style=\"display:none;\">\n",
              "\n",
              "<svg xmlns=\"http://www.w3.org/2000/svg\" height=\"24px\"viewBox=\"0 0 24 24\"\n",
              "     width=\"24px\">\n",
              "    <g>\n",
              "        <path d=\"M19 3H5c-1.1 0-2 .9-2 2v14c0 1.1.9 2 2 2h14c1.1 0 2-.9 2-2V5c0-1.1-.9-2-2-2zM9 17H7v-7h2v7zm4 0h-2V7h2v10zm4 0h-2v-4h2v4z\"/>\n",
              "    </g>\n",
              "</svg>\n",
              "  </button>\n",
              "\n",
              "<style>\n",
              "  .colab-df-quickchart {\n",
              "      --bg-color: #E8F0FE;\n",
              "      --fill-color: #1967D2;\n",
              "      --hover-bg-color: #E2EBFA;\n",
              "      --hover-fill-color: #174EA6;\n",
              "      --disabled-fill-color: #AAA;\n",
              "      --disabled-bg-color: #DDD;\n",
              "  }\n",
              "\n",
              "  [theme=dark] .colab-df-quickchart {\n",
              "      --bg-color: #3B4455;\n",
              "      --fill-color: #D2E3FC;\n",
              "      --hover-bg-color: #434B5C;\n",
              "      --hover-fill-color: #FFFFFF;\n",
              "      --disabled-bg-color: #3B4455;\n",
              "      --disabled-fill-color: #666;\n",
              "  }\n",
              "\n",
              "  .colab-df-quickchart {\n",
              "    background-color: var(--bg-color);\n",
              "    border: none;\n",
              "    border-radius: 50%;\n",
              "    cursor: pointer;\n",
              "    display: none;\n",
              "    fill: var(--fill-color);\n",
              "    height: 32px;\n",
              "    padding: 0;\n",
              "    width: 32px;\n",
              "  }\n",
              "\n",
              "  .colab-df-quickchart:hover {\n",
              "    background-color: var(--hover-bg-color);\n",
              "    box-shadow: 0 1px 2px rgba(60, 64, 67, 0.3), 0 1px 3px 1px rgba(60, 64, 67, 0.15);\n",
              "    fill: var(--button-hover-fill-color);\n",
              "  }\n",
              "\n",
              "  .colab-df-quickchart-complete:disabled,\n",
              "  .colab-df-quickchart-complete:disabled:hover {\n",
              "    background-color: var(--disabled-bg-color);\n",
              "    fill: var(--disabled-fill-color);\n",
              "    box-shadow: none;\n",
              "  }\n",
              "\n",
              "  .colab-df-spinner {\n",
              "    border: 2px solid var(--fill-color);\n",
              "    border-color: transparent;\n",
              "    border-bottom-color: var(--fill-color);\n",
              "    animation:\n",
              "      spin 1s steps(1) infinite;\n",
              "  }\n",
              "\n",
              "  @keyframes spin {\n",
              "    0% {\n",
              "      border-color: transparent;\n",
              "      border-bottom-color: var(--fill-color);\n",
              "      border-left-color: var(--fill-color);\n",
              "    }\n",
              "    20% {\n",
              "      border-color: transparent;\n",
              "      border-left-color: var(--fill-color);\n",
              "      border-top-color: var(--fill-color);\n",
              "    }\n",
              "    30% {\n",
              "      border-color: transparent;\n",
              "      border-left-color: var(--fill-color);\n",
              "      border-top-color: var(--fill-color);\n",
              "      border-right-color: var(--fill-color);\n",
              "    }\n",
              "    40% {\n",
              "      border-color: transparent;\n",
              "      border-right-color: var(--fill-color);\n",
              "      border-top-color: var(--fill-color);\n",
              "    }\n",
              "    60% {\n",
              "      border-color: transparent;\n",
              "      border-right-color: var(--fill-color);\n",
              "    }\n",
              "    80% {\n",
              "      border-color: transparent;\n",
              "      border-right-color: var(--fill-color);\n",
              "      border-bottom-color: var(--fill-color);\n",
              "    }\n",
              "    90% {\n",
              "      border-color: transparent;\n",
              "      border-bottom-color: var(--fill-color);\n",
              "    }\n",
              "  }\n",
              "</style>\n",
              "\n",
              "  <script>\n",
              "    async function quickchart(key) {\n",
              "      const quickchartButtonEl =\n",
              "        document.querySelector('#' + key + ' button');\n",
              "      quickchartButtonEl.disabled = true;  // To prevent multiple clicks.\n",
              "      quickchartButtonEl.classList.add('colab-df-spinner');\n",
              "      try {\n",
              "        const charts = await google.colab.kernel.invokeFunction(\n",
              "            'suggestCharts', [key], {});\n",
              "      } catch (error) {\n",
              "        console.error('Error during call to suggestCharts:', error);\n",
              "      }\n",
              "      quickchartButtonEl.classList.remove('colab-df-spinner');\n",
              "      quickchartButtonEl.classList.add('colab-df-quickchart-complete');\n",
              "    }\n",
              "    (() => {\n",
              "      let quickchartButtonEl =\n",
              "        document.querySelector('#df-d6fe7dd3-9fd4-4047-a188-c7d16193424e button');\n",
              "      quickchartButtonEl.style.display =\n",
              "        google.colab.kernel.accessAllowed ? 'block' : 'none';\n",
              "    })();\n",
              "  </script>\n",
              "</div>\n",
              "\n",
              "    </div>\n",
              "  </div>\n"
            ],
            "application/vnd.google.colaboratory.intrinsic+json": {
              "type": "dataframe",
              "variable_name": "vgsales",
              "summary": "{\n  \"name\": \"vgsales\",\n  \"rows\": 13140,\n  \"fields\": [\n    {\n      \"column\": \"Rank\",\n      \"properties\": {\n        \"dtype\": \"number\",\n        \"std\": 4784,\n        \"min\": 1,\n        \"max\": 16600,\n        \"num_unique_values\": 13140,\n        \"samples\": [\n          8204,\n          3759,\n          11463\n        ],\n        \"semantic_type\": \"\",\n        \"description\": \"\"\n      }\n    },\n    {\n      \"column\": \"Name\",\n      \"properties\": {\n        \"dtype\": \"string\",\n        \"num_unique_values\": 8728,\n        \"samples\": [\n          \"Bulletstorm\",\n          \"Brain Exercise With Dr. Kawashima\",\n          \"Camp Rock: The Final Jam\"\n        ],\n        \"semantic_type\": \"\",\n        \"description\": \"\"\n      }\n    },\n    {\n      \"column\": \"Platform\",\n      \"properties\": {\n        \"dtype\": \"category\",\n        \"num_unique_values\": 18,\n        \"samples\": [\n          \"Wii\",\n          \"DS\",\n          \"XB\"\n        ],\n        \"semantic_type\": \"\",\n        \"description\": \"\"\n      }\n    },\n    {\n      \"column\": \"Year\",\n      \"properties\": {\n        \"dtype\": \"number\",\n        \"std\": 3,\n        \"min\": 2002,\n        \"max\": 2015,\n        \"num_unique_values\": 14,\n        \"samples\": [\n          2011,\n          2012,\n          2006\n        ],\n        \"semantic_type\": \"\",\n        \"description\": \"\"\n      }\n    },\n    {\n      \"column\": \"Genre\",\n      \"properties\": {\n        \"dtype\": \"category\",\n        \"num_unique_values\": 12,\n        \"samples\": [\n          \"Adventure\",\n          \"Fighting\",\n          \"Sports\"\n        ],\n        \"semantic_type\": \"\",\n        \"description\": \"\"\n      }\n    },\n    {\n      \"column\": \"Publisher\",\n      \"properties\": {\n        \"dtype\": \"category\",\n        \"num_unique_values\": 420,\n        \"samples\": [\n          \"Hamster Corporation\",\n          \"Fields\",\n          \"bitComposer Games\"\n        ],\n        \"semantic_type\": \"\",\n        \"description\": \"\"\n      }\n    },\n    {\n      \"column\": \"NA_Sales\",\n      \"properties\": {\n        \"dtype\": \"number\",\n        \"std\": 0.7302690831865475,\n        \"min\": 0.0,\n        \"max\": 41.49,\n        \"num_unique_values\": 348,\n        \"samples\": [\n          0.3,\n          0.65,\n          0.94\n        ],\n        \"semantic_type\": \"\",\n        \"description\": \"\"\n      }\n    },\n    {\n      \"column\": \"EU_Sales\",\n      \"properties\": {\n        \"dtype\": \"number\",\n        \"std\": 0.5282963985621045,\n        \"min\": 0.0,\n        \"max\": 29.02,\n        \"num_unique_values\": 281,\n        \"samples\": [\n          2.77,\n          0.04,\n          0.15\n        ],\n        \"semantic_type\": \"\",\n        \"description\": \"\"\n      }\n    },\n    {\n      \"column\": \"JP_Sales\",\n      \"properties\": {\n        \"dtype\": \"number\",\n        \"std\": 0.24966727021757024,\n        \"min\": 0.0,\n        \"max\": 6.5,\n        \"num_unique_values\": 177,\n        \"samples\": [\n          5.32,\n          0.04,\n          1.21\n        ],\n        \"semantic_type\": \"\",\n        \"description\": \"\"\n      }\n    },\n    {\n      \"column\": \"Other_Sales\",\n      \"properties\": {\n        \"dtype\": \"number\",\n        \"std\": 0.20761093996315266,\n        \"min\": 0.0,\n        \"max\": 10.57,\n        \"num_unique_values\": 155,\n        \"samples\": [\n          0.07,\n          0.1,\n          0.89\n        ],\n        \"semantic_type\": \"\",\n        \"description\": \"\"\n      }\n    },\n    {\n      \"column\": \"Global_Sales\",\n      \"properties\": {\n        \"dtype\": \"number\",\n        \"std\": 1.505368130254066,\n        \"min\": 0.01,\n        \"max\": 82.74,\n        \"num_unique_values\": 540,\n        \"samples\": [\n          3.27,\n          7.27,\n          0.19\n        ],\n        \"semantic_type\": \"\",\n        \"description\": \"\"\n      }\n    },\n    {\n      \"column\": \"Publisher_Consolidated\",\n      \"properties\": {\n        \"dtype\": \"category\",\n        \"num_unique_values\": 416,\n        \"samples\": [\n          \"Detn8 Games\",\n          \"Ertain\",\n          \"Otomate\"\n        ],\n        \"semantic_type\": \"\",\n        \"description\": \"\"\n      }\n    },\n    {\n      \"column\": \"Franchise\",\n      \"properties\": {\n        \"dtype\": \"category\",\n        \"num_unique_values\": 23,\n        \"samples\": [\n          \"Resident Evil\",\n          \"FIFA\",\n          \"Wii Sports\"\n        ],\n        \"semantic_type\": \"\",\n        \"description\": \"\"\n      }\n    },\n    {\n      \"column\": \"Title_Length\",\n      \"properties\": {\n        \"dtype\": \"number\",\n        \"std\": 12,\n        \"min\": 2,\n        \"max\": 132,\n        \"num_unique_values\": 103,\n        \"samples\": [\n          35,\n          2,\n          55\n        ],\n        \"semantic_type\": \"\",\n        \"description\": \"\"\n      }\n    }\n  ]\n}"
            }
          },
          "metadata": {},
          "execution_count": 60
        }
      ]
    },
    {
      "cell_type": "code",
      "source": [
        "vgsales.info()"
      ],
      "metadata": {
        "colab": {
          "base_uri": "https://localhost:8080/"
        },
        "id": "N92cwK9BIvwZ",
        "outputId": "935e4fc1-0759-4967-d0c6-79053753d61b"
      },
      "execution_count": 61,
      "outputs": [
        {
          "output_type": "stream",
          "name": "stdout",
          "text": [
            "<class 'pandas.core.frame.DataFrame'>\n",
            "Index: 13140 entries, 0 to 16597\n",
            "Data columns (total 14 columns):\n",
            " #   Column                  Non-Null Count  Dtype  \n",
            "---  ------                  --------------  -----  \n",
            " 0   Rank                    13140 non-null  int64  \n",
            " 1   Name                    13140 non-null  object \n",
            " 2   Platform                13140 non-null  object \n",
            " 3   Year                    13140 non-null  int64  \n",
            " 4   Genre                   13140 non-null  object \n",
            " 5   Publisher               13140 non-null  object \n",
            " 6   NA_Sales                13140 non-null  float64\n",
            " 7   EU_Sales                13140 non-null  float64\n",
            " 8   JP_Sales                13140 non-null  float64\n",
            " 9   Other_Sales             13140 non-null  float64\n",
            " 10  Global_Sales            13140 non-null  float64\n",
            " 11  Publisher_Consolidated  13140 non-null  object \n",
            " 12  Franchise               13140 non-null  object \n",
            " 13  Title_Length            13140 non-null  int64  \n",
            "dtypes: float64(5), int64(3), object(6)\n",
            "memory usage: 1.5+ MB\n"
          ]
        }
      ]
    },
    {
      "cell_type": "markdown",
      "source": [
        "# Visualizations"
      ],
      "metadata": {
        "id": "nDxaRqDfIylV"
      }
    },
    {
      "cell_type": "markdown",
      "source": [
        "Now that we've got a clean dataset, this is a good opportunity to stop and examine the distribution of some key features, particularly how they relate to our target feature (global sales). In this section, I'll be generating some visualizations for various features in the dataset, to give us some intuition about what features drive video game sales."
      ],
      "metadata": {
        "id": "LsSFmU8z5BL7"
      }
    },
    {
      "cell_type": "markdown",
      "source": [
        "## Visualize distribution of global sales"
      ],
      "metadata": {
        "id": "bg2bpF_48eUE"
      }
    },
    {
      "cell_type": "code",
      "source": [
        "# Generate a histogram of Global_Sales\n",
        "fig = sns.histplot(data=vgsales, x='Global_Sales', bins=15)\n",
        "plt.title(\"Distribution of Global Sales\")\n",
        "plt.xlabel(\"Global Sales ($ Millions)\")\n",
        "plt.ylabel(\"Count\")\n",
        "plt.show()"
      ],
      "metadata": {
        "colab": {
          "base_uri": "https://localhost:8080/",
          "height": 472
        },
        "id": "6iHe3NnP8kuL",
        "outputId": "995d26e6-0b89-433b-8e36-4ff7264ed414"
      },
      "execution_count": 62,
      "outputs": [
        {
          "output_type": "display_data",
          "data": {
            "text/plain": [
              "<Figure size 640x480 with 1 Axes>"
            ],
            "image/png": "[encoded data removed]"
          },
          "metadata": {}
        }
      ]
    },
    {
      "cell_type": "markdown",
      "source": [
        "We can see that it's tough to visualize this data with a histogram, since most games sell in the range of \\$0-5 million, while a handful of games sell significantly more (up to $80 million). To improve this visualization, I'm going to split the data into two groups (the average-selling games, and the high-selling ones) and make two visualizations."
      ],
      "metadata": {
        "id": "NHdJaLp99YL0"
      }
    },
    {
      "cell_type": "code",
      "source": [
        "# Generate a histogram of Global_Sales for games under $5 million in sales\n",
        "fig = sns.histplot(data=vgsales[vgsales['Global_Sales'] < 5], x='Global_Sales', bins=15)\n",
        "plt.title(\"Distribution of Global Sales (under $5 million)\")\n",
        "plt.xlabel(\"Global Sales ($ Millions)\")\n",
        "plt.ylabel(\"Count\")\n",
        "plt.show()"
      ],
      "metadata": {
        "colab": {
          "base_uri": "https://localhost:8080/",
          "height": 472
        },
        "id": "SwDRAMZ19rr8",
        "outputId": "a673aa26-ac45-4d8a-9443-a04ebf34e29e"
      },
      "execution_count": 63,
      "outputs": [
        {
          "output_type": "display_data",
          "data": {
            "text/plain": [
              "<Figure size 640x480 with 1 Axes>"
            ],
            "image/png": "[encoded data removed]"
          },
          "metadata": {}
        }
      ]
    },
    {
      "cell_type": "code",
      "source": [
        "# Generate a histogram of Global_Sales for games over $5 million in sales\n",
        "fig = sns.histplot(data=vgsales[vgsales['Global_Sales'] >= 5], x='Global_Sales', bins=15)\n",
        "plt.title(\"Distribution of Global Sales (over $5 million)\")\n",
        "plt.xlabel(\"Global Sales ($ Millions)\")\n",
        "plt.ylabel(\"Count\")\n",
        "plt.show()"
      ],
      "metadata": {
        "colab": {
          "base_uri": "https://localhost:8080/",
          "height": 472
        },
        "id": "32oVu-Nx-AFR",
        "outputId": "7a589c28-36b4-4a45-b5cb-831def956b50"
      },
      "execution_count": 64,
      "outputs": [
        {
          "output_type": "display_data",
          "data": {
            "text/plain": [
              "<Figure size 640x480 with 1 Axes>"
            ],
            "image/png": "[encoded data removed]"
          },
          "metadata": {}
        }
      ]
    },
    {
      "cell_type": "markdown",
      "source": [
        "As we can see, the *vast* majority of games sell below \\$5 million dollars in total. There are a nontrivial amount of games that sell above \\$5 million, but it's a very small amount compared to the under-$5 million games."
      ],
      "metadata": {
        "id": "Bkg65xNi-D3A"
      }
    },
    {
      "cell_type": "markdown",
      "source": [
        "## Visualize global sales grouped by publisher"
      ],
      "metadata": {
        "id": "NqDNG_jlI8Wg"
      }
    },
    {
      "cell_type": "code",
      "source": [
        "# Bar plot of sales by publisher, using sns\n",
        "# Select out the top 10 most popular publishers first\n",
        "df_sales_by_publisher = vgsales.groupby(by=['Publisher_Consolidated']).sum()[['Global_Sales']]\n",
        "top_publishers = df_sales_by_publisher.reset_index().sort_values(by=['Global_Sales'], ascending=False)['Publisher_Consolidated'][:10]"
      ],
      "metadata": {
        "id": "FHFeRU4zJCrQ"
      },
      "execution_count": 65,
      "outputs": []
    },
    {
      "cell_type": "code",
      "source": [
        "fig = sns.barplot(data=df_sales_by_publisher.loc[top_publishers], x='Publisher_Consolidated', y='Global_Sales')\n",
        "plt.xticks(rotation=70)\n",
        "plt.title(\"Aggregate Global Sales by Publisher\")\n",
        "plt.xlabel(\"Publisher\")\n",
        "plt.ylabel(\"Global Sales ($ Millions)\")\n",
        "plt.show()\n"
      ],
      "metadata": {
        "colab": {
          "base_uri": "https://localhost:8080/",
          "height": 656
        },
        "id": "hKf_-ztAIzTg",
        "outputId": "3503c1ef-4f21-41f2-a229-0d8748d2cb26"
      },
      "execution_count": 66,
      "outputs": [
        {
          "output_type": "display_data",
          "data": {
            "text/plain": [
              "<Figure size 640x480 with 1 Axes>"
            ],
            "image/png": "[encoded data removed]"
          },
          "metadata": {}
        }
      ]
    },
    {
      "cell_type": "markdown",
      "source": [
        "## Visualize global sales grouped by platform"
      ],
      "metadata": {
        "id": "LyEMOoZPJINo"
      }
    },
    {
      "cell_type": "code",
      "source": [
        "# Plot sales by platform (again selecting for the top 10)\n",
        "df_sales_by_platform = vgsales.groupby(by=['Platform']).sum()[['Global_Sales']]\n",
        "top_platforms = df_sales_by_platform.reset_index().sort_values(by=['Global_Sales'], ascending=False)['Platform'][:10]"
      ],
      "metadata": {
        "id": "dDKGzl-7JEuR"
      },
      "execution_count": 67,
      "outputs": []
    },
    {
      "cell_type": "code",
      "source": [
        "fig = sns.barplot(data=df_sales_by_platform.loc[top_platforms], x='Platform', y='Global_Sales')\n",
        "plt.xticks(rotation=70)\n",
        "plt.title(\"Aggregate Global Sales by Platform\")\n",
        "plt.xlabel(\"Platform\")\n",
        "plt.ylabel(\"Global Sales ($ Millions)\")\n",
        "plt.show()\n"
      ],
      "metadata": {
        "colab": {
          "base_uri": "https://localhost:8080/",
          "height": 496
        },
        "id": "2elI-Jl1JMt5",
        "outputId": "70fffe8e-329d-43b5-cc8a-5ecab5984033"
      },
      "execution_count": 68,
      "outputs": [
        {
          "output_type": "display_data",
          "data": {
            "text/plain": [
              "<Figure size 640x480 with 1 Axes>"
            ],
            "image/png": "[encoded data removed]"
          },
          "metadata": {}
        }
      ]
    },
    {
      "cell_type": "markdown",
      "source": [
        "## Visualize global sales grouped by game genre"
      ],
      "metadata": {
        "id": "QZm1vOEyJQRt"
      }
    },
    {
      "cell_type": "code",
      "source": [
        "# And finally, plot the aggregate sales of games based on game genre\n",
        "# Plot sales by platform (again selecting for the top 10)\n",
        "df_sales_by_genre = vgsales.groupby(by=['Genre']).sum()[['Global_Sales']]\n",
        "top_genres = df_sales_by_genre.reset_index().sort_values(by=['Global_Sales'], ascending=False)['Genre'][:10]"
      ],
      "metadata": {
        "id": "mnd75lWlJOHJ"
      },
      "execution_count": 69,
      "outputs": []
    },
    {
      "cell_type": "code",
      "source": [
        "fig = sns.barplot(data=df_sales_by_genre.loc[top_genres], x='Genre', y='Global_Sales')\n",
        "plt.xticks(rotation=70)\n",
        "plt.title(\"Aggregate Global Sales by Game Genre\")\n",
        "plt.xlabel(\"Genre\")\n",
        "plt.ylabel(\"Global Sales ($ Millions)\")\n",
        "plt.show()\n"
      ],
      "metadata": {
        "colab": {
          "base_uri": "https://localhost:8080/",
          "height": 543
        },
        "id": "w5qIM8W8JUDx",
        "outputId": "3b5e0d2e-a683-434a-ef25-996f98a7c7cc"
      },
      "execution_count": 70,
      "outputs": [
        {
          "output_type": "display_data",
          "data": {
            "text/plain": [
              "<Figure size 640x480 with 1 Axes>"
            ],
            "image/png": "[encoded data removed]"
          },
          "metadata": {}
        }
      ]
    },
    {
      "cell_type": "markdown",
      "source": [
        "# Establishing a baseline"
      ],
      "metadata": {
        "id": "QMuvG5gXKi3T"
      }
    },
    {
      "cell_type": "markdown",
      "source": [
        "Before we start modeling, I want to establish a baseline. I'll use a simple baseline here--if we had a model that simply predicted the mean Global_Sales number (from the preprocessed dataset), what MSE and MAE would we get?"
      ],
      "metadata": {
        "id": "pyD1YqfJKkjX"
      }
    },
    {
      "cell_type": "code",
      "source": [
        "mean_global_sales = vgsales['Global_Sales'].mean()\n",
        "mean_global_sales"
      ],
      "metadata": {
        "colab": {
          "base_uri": "https://localhost:8080/"
        },
        "id": "aprQ7honK0CZ",
        "outputId": "8faf5c51-805e-4e27-d5b2-fcb35b82558c"
      },
      "execution_count": 71,
      "outputs": [
        {
          "output_type": "execute_result",
          "data": {
            "text/plain": [
              "0.49864611872146125"
            ]
          },
          "metadata": {},
          "execution_count": 71
        }
      ]
    },
    {
      "cell_type": "code",
      "source": [
        "# Calculate MSE for this (on the full dataset)\n",
        "mean_squared_error(vgsales['Global_Sales'], [mean_global_sales]*np.ones(len(vgsales)))"
      ],
      "metadata": {
        "colab": {
          "base_uri": "https://localhost:8080/"
        },
        "id": "fj2JZF27LKMW",
        "outputId": "8bab9f53-8a8d-40c2-e50a-721c09461aae"
      },
      "execution_count": 72,
      "outputs": [
        {
          "output_type": "execute_result",
          "data": {
            "text/plain": [
              "2.2659607469141596"
            ]
          },
          "metadata": {},
          "execution_count": 72
        }
      ]
    },
    {
      "cell_type": "code",
      "source": [
        "# Also calculate MAE\n",
        "mean_absolute_error(vgsales['Global_Sales'], [mean_global_sales]*np.ones(len(vgsales)))"
      ],
      "metadata": {
        "colab": {
          "base_uri": "https://localhost:8080/"
        },
        "id": "CNliR_JoIdGE",
        "outputId": "a2303ead-7338-418e-e685-685558326023"
      },
      "execution_count": 73,
      "outputs": [
        {
          "output_type": "execute_result",
          "data": {
            "text/plain": [
              "0.5495565362134512"
            ]
          },
          "metadata": {},
          "execution_count": 73
        }
      ]
    },
    {
      "cell_type": "markdown",
      "source": [
        "So, a MSE of 2.26 (or MAE of 0.55) is the baseline to beat."
      ],
      "metadata": {
        "id": "xsTFhDGlLaAM"
      }
    },
    {
      "cell_type": "markdown",
      "source": [
        "# Model building"
      ],
      "metadata": {
        "id": "lHEV3Fx1KM1J"
      }
    },
    {
      "cell_type": "markdown",
      "source": [
        "Now that we've done some data cleaning and feature engineering, it's time to try out some different models on the data and see what works well. For each model, I'll train an initial model (with default parameters), and then set up a grid search with cross-validation to see how much we can improve the performance with the selection of optimal hyperparameters."
      ],
      "metadata": {
        "id": "s2lvI3otKOZC"
      }
    },
    {
      "cell_type": "markdown",
      "source": [
        "## Test-train split"
      ],
      "metadata": {
        "id": "8F3JDnbgKaoZ"
      }
    },
    {
      "cell_type": "code",
      "source": [
        "vgsales.columns"
      ],
      "metadata": {
        "colab": {
          "base_uri": "https://localhost:8080/"
        },
        "id": "MiYSHqbDKc4w",
        "outputId": "29f44cf3-7292-4221-ba74-0e2a899b9cbc"
      },
      "execution_count": 74,
      "outputs": [
        {
          "output_type": "execute_result",
          "data": {
            "text/plain": [
              "Index(['Rank', 'Name', 'Platform', 'Year', 'Genre', 'Publisher', 'NA_Sales',\n",
              "       'EU_Sales', 'JP_Sales', 'Other_Sales', 'Global_Sales',\n",
              "       'Publisher_Consolidated', 'Franchise', 'Title_Length'],\n",
              "      dtype='object')"
            ]
          },
          "metadata": {},
          "execution_count": 74
        }
      ]
    },
    {
      "cell_type": "code",
      "source": [
        "# Test train split\n",
        "X = vgsales[['Platform', 'Genre', 'Publisher_Consolidated', 'Franchise', 'Title_Length']] # 'Name',\n",
        "y = vgsales['Global_Sales']"
      ],
      "metadata": {
        "id": "mxZx1Fy4JVZx"
      },
      "execution_count": 75,
      "outputs": []
    },
    {
      "cell_type": "code",
      "source": [
        "column_transformer = ColumnTransformer(\n",
        "    transformers=[\n",
        "        ('onehot', OneHotEncoder(handle_unknown='ignore'), X.select_dtypes(include=['object']).columns.tolist()),  # Apply OneHotEncoder to object columns\n",
        "        ('scale', StandardScaler(), X.select_dtypes(include=['int64']).columns.tolist())\n",
        "    ],\n",
        "    remainder='passthrough'  # Keep the remaining columns as they are\n",
        ")"
      ],
      "metadata": {
        "id": "55WDG8cGSzl-"
      },
      "execution_count": 76,
      "outputs": []
    },
    {
      "cell_type": "code",
      "source": [
        "X_train, X_test, y_train, y_test = train_test_split(X, y, test_size=0.25, random_state=42)\n",
        "X_train.shape, y_train.shape"
      ],
      "metadata": {
        "colab": {
          "base_uri": "https://localhost:8080/"
        },
        "id": "YEA8zLfOSyUv",
        "outputId": "bb20641a-93d9-4b58-826c-42e77461af27"
      },
      "execution_count": 77,
      "outputs": [
        {
          "output_type": "execute_result",
          "data": {
            "text/plain": [
              "((9855, 5), (9855,))"
            ]
          },
          "metadata": {},
          "execution_count": 77
        }
      ]
    },
    {
      "cell_type": "markdown",
      "source": [
        "## Logistic regression"
      ],
      "metadata": {
        "id": "afFqQ1GdLvqB"
      }
    },
    {
      "cell_type": "code",
      "source": [
        "# Set up a pipeline that uses OHE and then runs linear regression\n",
        "lr_pipe = Pipeline([('ct', column_transformer), ('linreg', LinearRegression())])\n",
        "lr_pipe.fit(X_train, y_train)\n",
        "lr_train_preds = lr_pipe.predict(X_train)\n",
        "lr_test_preds = lr_pipe.predict(X_test)\n",
        "lr_train_mse = mean_squared_error(y_train, lr_train_preds)\n",
        "lr_test_mse = mean_squared_error(y_test, lr_test_preds)\n",
        "lr_train_mse, lr_test_mse"
      ],
      "metadata": {
        "colab": {
          "base_uri": "https://localhost:8080/"
        },
        "id": "1hspRQo5TMnB",
        "outputId": "44c47345-7639-47b4-9bde-c850c8822df4"
      },
      "execution_count": 79,
      "outputs": [
        {
          "output_type": "execute_result",
          "data": {
            "text/plain": [
              "(1.1791600500283457, 2.596872532458826)"
            ]
          },
          "metadata": {},
          "execution_count": 79
        }
      ]
    },
    {
      "cell_type": "code",
      "source": [
        "mean_absolute_error(y_train, lr_train_preds), mean_absolute_error(y_test, lr_test_preds)"
      ],
      "metadata": {
        "colab": {
          "base_uri": "https://localhost:8080/"
        },
        "id": "Tbc3b2BM89X9",
        "outputId": "6cd775a3-4ac3-478e-bbdb-a77e87fdf1ec"
      },
      "execution_count": 80,
      "outputs": [
        {
          "output_type": "execute_result",
          "data": {
            "text/plain": [
              "(0.4430532290031946, 0.4923091016373915)"
            ]
          },
          "metadata": {},
          "execution_count": 80
        }
      ]
    },
    {
      "cell_type": "markdown",
      "source": [
        "Looks like some overfitting is going on here, based on the MSE. Let's see if we can improve that with Lasso or Ridge."
      ],
      "metadata": {
        "id": "U00O924ALsTG"
      }
    },
    {
      "cell_type": "markdown",
      "source": [
        "## Lasso"
      ],
      "metadata": {
        "id": "8xq1s8mBMBpO"
      }
    },
    {
      "cell_type": "code",
      "source": [
        "# Set up a pipeline that uses OHE and then runs Lasso regression (initially with default params)\n",
        "lasso_pipe = Pipeline([('ct', column_transformer), ('lasso', Lasso())])\n",
        "lasso_pipe.fit(X_train, y_train)\n",
        "lasso_train_preds = lasso_pipe.predict(X_train)\n",
        "lasso_test_preds = lasso_pipe.predict(X_test)\n",
        "lasso_train_mse = mean_squared_error(y_train, lasso_train_preds)\n",
        "lasso_test_mse = mean_squared_error(y_test, lasso_test_preds)\n",
        "lasso_train_mse, lasso_test_mse"
      ],
      "metadata": {
        "colab": {
          "base_uri": "https://localhost:8080/"
        },
        "id": "xvP2h_cITyIE",
        "outputId": "03107e64-8573-4336-d83e-d34ebea648b1"
      },
      "execution_count": 119,
      "outputs": [
        {
          "output_type": "execute_result",
          "data": {
            "text/plain": [
              "(1.7450640212971391, 3.8292746053339104)"
            ]
          },
          "metadata": {},
          "execution_count": 119
        }
      ]
    },
    {
      "cell_type": "code",
      "source": [
        "# Also compute MAE\n",
        "mean_absolute_error(y_train, lasso_train_preds), mean_absolute_error(y_test, lasso_test_preds)"
      ],
      "metadata": {
        "colab": {
          "base_uri": "https://localhost:8080/"
        },
        "id": "FdpioVnY9aE_",
        "outputId": "d9b9fc19-2400-47a2-f4ec-1fc1e01d7ff8"
      },
      "execution_count": 404,
      "outputs": [
        {
          "output_type": "execute_result",
          "data": {
            "text/plain": [
              "(0.5320950803391954, 0.5747292344783222)"
            ]
          },
          "metadata": {},
          "execution_count": 404
        }
      ]
    },
    {
      "cell_type": "markdown",
      "source": [
        "Let's try grid searching for some better parameters"
      ],
      "metadata": {
        "id": "xoynf8w7NcZv"
      }
    },
    {
      "cell_type": "code",
      "source": [
        "lasso_pipe = Pipeline([('ct', column_transformer), ('lasso', Lasso())])\n",
        "lasso_grid = GridSearchCV(lasso_pipe, param_grid={'lasso__alpha': [0.1, 1.0, 2.0, 5.0, 10.0]})\n",
        "lasso_grid.fit(X_train, y_train)\n",
        "lasso_train_mse = mean_squared_error(y_train, lasso_grid.predict(X_train))\n",
        "lasso_test_mse = mean_squared_error(y_test, lasso_grid.predict(X_test))\n",
        "lasso_train_mse, lasso_test_mse"
      ],
      "metadata": {
        "colab": {
          "base_uri": "https://localhost:8080/"
        },
        "id": "pgvIQq8SNaon",
        "outputId": "767fa086-6b98-4492-8a24-63c660e7e21c"
      },
      "execution_count": 120,
      "outputs": [
        {
          "output_type": "execute_result",
          "data": {
            "text/plain": [
              "(1.7450640212971391, 3.8292746053339104)"
            ]
          },
          "metadata": {},
          "execution_count": 120
        }
      ]
    },
    {
      "cell_type": "code",
      "source": [
        "# Also compute MAE\n",
        "mean_absolute_error(y_train, lasso_grid.predict(X_train)), mean_absolute_error(y_test, lasso_grid.predict(X_test))"
      ],
      "metadata": {
        "colab": {
          "base_uri": "https://localhost:8080/"
        },
        "id": "NEAywzxm9hz9",
        "outputId": "2168c129-a3fa-4fe3-90db-8d14779f0e31"
      },
      "execution_count": 405,
      "outputs": [
        {
          "output_type": "execute_result",
          "data": {
            "text/plain": [
              "(0.5320950803391954, 0.5747292344783222)"
            ]
          },
          "metadata": {},
          "execution_count": 405
        }
      ]
    },
    {
      "cell_type": "code",
      "source": [
        "lasso_grid.best_params_"
      ],
      "metadata": {
        "colab": {
          "base_uri": "https://localhost:8080/"
        },
        "id": "rhCljTdzNsvX",
        "outputId": "34e90b44-0ddb-4e30-9845-b8b33df02f55"
      },
      "execution_count": 406,
      "outputs": [
        {
          "output_type": "execute_result",
          "data": {
            "text/plain": [
              "{'lasso__alpha': 0.1}"
            ]
          },
          "metadata": {},
          "execution_count": 406
        }
      ]
    },
    {
      "cell_type": "markdown",
      "source": [
        "## Ridge"
      ],
      "metadata": {
        "id": "uSKctxLWNxQx"
      }
    },
    {
      "cell_type": "code",
      "source": [
        "# Set up a pipeline that uses OHE and then runs Ridge regression (initially with default params)\n",
        "ridge_pipe = Pipeline([('ct', column_transformer), ('ridge', Ridge())])\n",
        "ridge_pipe.fit(X_train, y_train)\n",
        "ridge_train_preds = ridge_pipe.predict(X_train)\n",
        "ridge_test_preds = ridge_pipe.predict(X_test)\n",
        "ridge_train_mse = mean_squared_error(y_train, ridge_train_preds)\n",
        "ridge_test_mse = mean_squared_error(y_test, ridge_test_preds)\n",
        "ridge_train_mse, ridge_test_mse"
      ],
      "metadata": {
        "colab": {
          "base_uri": "https://localhost:8080/"
        },
        "id": "9InWVnK7T3Tw",
        "outputId": "1768f587-d084-4811-f135-0281be54385c"
      },
      "execution_count": 409,
      "outputs": [
        {
          "output_type": "execute_result",
          "data": {
            "text/plain": [
              "(1.1872082356076887, 2.759246475492697)"
            ]
          },
          "metadata": {},
          "execution_count": 409
        }
      ]
    },
    {
      "cell_type": "code",
      "source": [
        "# Also compute MAE\n",
        "mean_absolute_error(y_train, ridge_train_preds), mean_absolute_error(y_test, ridge_test_preds)"
      ],
      "metadata": {
        "colab": {
          "base_uri": "https://localhost:8080/"
        },
        "id": "z72m_MLB9uS7",
        "outputId": "f436f9c6-dab6-4785-efac-ece8c43fc07e"
      },
      "execution_count": 410,
      "outputs": [
        {
          "output_type": "execute_result",
          "data": {
            "text/plain": [
              "(0.4445456913919628, 0.4904619676542943)"
            ]
          },
          "metadata": {},
          "execution_count": 410
        }
      ]
    },
    {
      "cell_type": "code",
      "source": [
        "# Grid search for better parameters to reduce overfitting\n",
        "ridge_pipe = Pipeline([('ct', column_transformer), ('ridge', Ridge())])\n",
        "ridge_grid = GridSearchCV(ridge_pipe, param_grid={'ridge__alpha': np.arange(3, 8, 0.5)})\n",
        "ridge_grid.fit(X_train, y_train)\n",
        "ridge_train_mse = mean_squared_error(y_train, ridge_grid.predict(X_train))\n",
        "ridge_test_mse = mean_squared_error(y_test, ridge_grid.predict(X_test))\n",
        "ridge_train_mse, ridge_test_mse"
      ],
      "metadata": {
        "colab": {
          "base_uri": "https://localhost:8080/"
        },
        "id": "ndIYbhwZN64n",
        "outputId": "6208f7c9-a27b-49f4-b003-4a7ba6c734fc"
      },
      "execution_count": 411,
      "outputs": [
        {
          "output_type": "execute_result",
          "data": {
            "text/plain": [
              "(1.2212620652635655, 2.9558055152807676)"
            ]
          },
          "metadata": {},
          "execution_count": 411
        }
      ]
    },
    {
      "cell_type": "code",
      "source": [
        "mean_absolute_error(y_train, ridge_grid.predict(X_train)), mean_absolute_error(y_test, ridge_grid.predict(X_test))"
      ],
      "metadata": {
        "colab": {
          "base_uri": "https://localhost:8080/"
        },
        "id": "0SvfgKsB9zXZ",
        "outputId": "c4072ea4-3208-4ec0-81ac-cb5b068e1804"
      },
      "execution_count": 412,
      "outputs": [
        {
          "output_type": "execute_result",
          "data": {
            "text/plain": [
              "(0.447080974417036, 0.4907184233203325)"
            ]
          },
          "metadata": {},
          "execution_count": 412
        }
      ]
    },
    {
      "cell_type": "code",
      "source": [
        "ridge_grid.best_params_"
      ],
      "metadata": {
        "colab": {
          "base_uri": "https://localhost:8080/"
        },
        "id": "WSijO5WqOdBH",
        "outputId": "ce61b305-a569-4558-b2c7-b3e3b2c02e93"
      },
      "execution_count": 413,
      "outputs": [
        {
          "output_type": "execute_result",
          "data": {
            "text/plain": [
              "{'ridge__alpha': 4.0}"
            ]
          },
          "metadata": {},
          "execution_count": 413
        }
      ]
    },
    {
      "cell_type": "markdown",
      "source": [
        "## Decision Tree (Regression)"
      ],
      "metadata": {
        "id": "XtW2XL50Owe-"
      }
    },
    {
      "cell_type": "code",
      "source": [
        "dt_pipe = Pipeline([('ct', column_transformer), ('dt', DecisionTreeRegressor())])\n",
        "dt_pipe.fit(X_train, y_train)\n",
        "dt_train_mse = mean_squared_error(y_train, dt_pipe.predict(X_train))\n",
        "dt_test_mse = mean_squared_error(y_test, dt_pipe.predict(X_test))\n",
        "dt_train_mse, dt_test_mse"
      ],
      "metadata": {
        "colab": {
          "base_uri": "https://localhost:8080/"
        },
        "id": "j_LXURSDT-v_",
        "outputId": "81f2477d-a3ab-44e9-a2a8-de9178dc3104"
      },
      "execution_count": 414,
      "outputs": [
        {
          "output_type": "execute_result",
          "data": {
            "text/plain": [
              "(0.0656697717579506, 3.669659044503439)"
            ]
          },
          "metadata": {},
          "execution_count": 414
        }
      ]
    },
    {
      "cell_type": "code",
      "source": [
        "# Also compute MAE\n",
        "mean_absolute_error(y_train, dt_pipe.predict(X_train)), mean_absolute_error(y_test, dt_pipe.predict(X_test))"
      ],
      "metadata": {
        "colab": {
          "base_uri": "https://localhost:8080/"
        },
        "id": "SkiUfip6-Be6",
        "outputId": "760eeafc-6918-4e83-ec2b-3db9d9d31bc1"
      },
      "execution_count": 416,
      "outputs": [
        {
          "output_type": "execute_result",
          "data": {
            "text/plain": [
              "(0.057358885587043884, 0.48164300814186656)"
            ]
          },
          "metadata": {},
          "execution_count": 416
        }
      ]
    },
    {
      "cell_type": "code",
      "source": [
        "# Grid search for better parameters to reduce overfitting\n",
        "dt_pipe = Pipeline([('ct', column_transformer), ('dt', DecisionTreeRegressor())])\n",
        "dt_grid = GridSearchCV(dt_pipe, cv=10, param_grid={'dt__max_depth': range(3, 15), 'dt__min_samples_leaf': range(1, 5), 'dt__min_samples_split': range(2, 9)})\n",
        "dt_grid.fit(X_train, y_train)\n",
        "dt_train_mse = mean_squared_error(y_train, dt_grid.predict(X_train))\n",
        "dt_test_mse = mean_squared_error(y_test, dt_grid.predict(X_test))\n",
        "dt_train_mse, dt_test_mse"
      ],
      "metadata": {
        "colab": {
          "base_uri": "https://localhost:8080/"
        },
        "id": "lFrrBez_PACG",
        "outputId": "3f6fabc1-d12f-41ed-f35c-0b06c4f92900"
      },
      "execution_count": 421,
      "outputs": [
        {
          "output_type": "stream",
          "name": "stderr",
          "text": [
            "/usr/local/lib/python3.10/dist-packages/numpy/ma/core.py:2820: RuntimeWarning: invalid value encountered in cast\n",
            "  _data = np.array(data, dtype=dtype, copy=copy,\n"
          ]
        },
        {
          "output_type": "execute_result",
          "data": {
            "text/plain": [
              "(0.8538623130536305, 3.1447833600370885)"
            ]
          },
          "metadata": {},
          "execution_count": 421
        }
      ]
    },
    {
      "cell_type": "code",
      "source": [
        "mean_absolute_error(y_train, dt_grid.predict(X_train)), mean_absolute_error(y_test, dt_grid.predict(X_test))"
      ],
      "metadata": {
        "colab": {
          "base_uri": "https://localhost:8080/"
        },
        "id": "p11Ukb-c-Nho",
        "outputId": "825cb615-4fac-421c-ee68-2230146dc91c"
      },
      "execution_count": 422,
      "outputs": [
        {
          "output_type": "execute_result",
          "data": {
            "text/plain": [
              "(0.3546928682159831, 0.45565292662043205)"
            ]
          },
          "metadata": {},
          "execution_count": 422
        }
      ]
    },
    {
      "cell_type": "code",
      "source": [
        "dt_grid.best_params_"
      ],
      "metadata": {
        "colab": {
          "base_uri": "https://localhost:8080/"
        },
        "id": "pJ6858RmO-MX",
        "outputId": "ad1effc4-ffb7-4a47-9414-0f05c2c59685"
      },
      "execution_count": 423,
      "outputs": [
        {
          "output_type": "execute_result",
          "data": {
            "text/plain": [
              "{'dt__max_depth': 14, 'dt__min_samples_leaf': 3, 'dt__min_samples_split': 4}"
            ]
          },
          "metadata": {},
          "execution_count": 423
        }
      ]
    },
    {
      "cell_type": "markdown",
      "source": [
        "## Neural Net"
      ],
      "metadata": {
        "id": "cKI6ySODRppQ"
      }
    },
    {
      "cell_type": "markdown",
      "source": [
        "Below, I experimented with using a neural net for this task, and tweaking various attributes (model architecture, learning rate, etc) to see what gave me the best test performance. At the bottom of this section, I've included a graph of training and validation loss over the training epochs for the best-performing model."
      ],
      "metadata": {
        "id": "SU2cBnV81Br9"
      }
    },
    {
      "cell_type": "code",
      "source": [
        "# We need to create a transformed version of X to pass into the NN, since we can't do a pipeline like with\n",
        "# the previous models.\n",
        "X_transf = column_transformer.fit_transform(X)\n",
        "X_train_nn, X_test_nn, y_train_nn, y_test_nn = train_test_split(X_transf, y, test_size=0.2, random_state=423)"
      ],
      "metadata": {
        "id": "qlpdgSbXUDhU"
      },
      "execution_count": 319,
      "outputs": []
    },
    {
      "cell_type": "code",
      "source": [
        "# Set up early stopping to use in the following NN models\n",
        "early_stopping = EarlyStopping(monitor='val_loss', patience=20, restore_best_weights=True)"
      ],
      "metadata": {
        "id": "2pJkwTlknLMv"
      },
      "execution_count": 321,
      "outputs": []
    },
    {
      "cell_type": "code",
      "source": [
        "model = Sequential()\n",
        "\n",
        "model.add(Dense(64, activation='relu', input_dim=X_train_nn.shape[1]))  # Input layer\n",
        "model.add(Dense(32, activation='relu'))  # Hidden layer\n",
        "model.add(Dense(1))  # Output layer for regression"
      ],
      "metadata": {
        "colab": {
          "base_uri": "https://localhost:8080/"
        },
        "id": "R5wIl6ThSFMm",
        "outputId": "23f8d30a-d4ef-4cb8-d2c8-c17504722eb1"
      },
      "execution_count": 322,
      "outputs": [
        {
          "output_type": "stream",
          "name": "stderr",
          "text": [
            "/usr/local/lib/python3.10/dist-packages/keras/src/layers/core/dense.py:87: UserWarning: Do not pass an `input_shape`/`input_dim` argument to a layer. When using Sequential models, prefer using an `Input(shape)` object as the first layer in the model instead.\n",
            "  super().__init__(activity_regularizer=activity_regularizer, **kwargs)\n"
          ]
        }
      ]
    },
    {
      "cell_type": "code",
      "source": [
        "model.compile(optimizer='adam', loss='mean_squared_error', metrics=['mae', 'mse'])"
      ],
      "metadata": {
        "id": "HVyPMrLrSbTN"
      },
      "execution_count": 323,
      "outputs": []
    },
    {
      "cell_type": "code",
      "source": [
        "history = model.fit(X_train_nn, y_train_nn, validation_split=0.3, epochs=50, batch_size=64, callbacks=[early_stopping])"
      ],
      "metadata": {
        "collapsed": true,
        "id": "OL9ljiJHSdl1"
      },
      "execution_count": null,
      "outputs": []
    },
    {
      "cell_type": "code",
      "source": [
        "model.evaluate(X_train_nn, y_train_nn)"
      ],
      "metadata": {
        "colab": {
          "base_uri": "https://localhost:8080/"
        },
        "id": "m1HpEY1R1W1j",
        "outputId": "3ef19ea6-eeb8-4610-d96b-6bc85daae24b"
      },
      "execution_count": 368,
      "outputs": [
        {
          "output_type": "stream",
          "name": "stdout",
          "text": [
            "\u001b[1m329/329\u001b[0m \u001b[32m━━━━━━━━━━━━━━━━━━━━\u001b[0m\u001b[37m\u001b[0m \u001b[1m1s\u001b[0m 3ms/step - loss: 0.4741 - mae: 0.2840 - mse: 0.4741\n"
          ]
        },
        {
          "output_type": "execute_result",
          "data": {
            "text/plain": [
              "[0.8667646050453186, 0.3238902986049652, 0.8667646050453186]"
            ]
          },
          "metadata": {},
          "execution_count": 368
        }
      ]
    },
    {
      "cell_type": "code",
      "source": [
        "model.evaluate(X_test_nn, y_test_nn)"
      ],
      "metadata": {
        "colab": {
          "base_uri": "https://localhost:8080/"
        },
        "id": "sbIzKGZJV14F",
        "outputId": "ff316f78-01a8-421c-d9f7-e66be7983d36"
      },
      "execution_count": 325,
      "outputs": [
        {
          "output_type": "stream",
          "name": "stdout",
          "text": [
            "\u001b[1m83/83\u001b[0m \u001b[32m━━━━━━━━━━━━━━━━━━━━\u001b[0m\u001b[37m\u001b[0m \u001b[1m0s\u001b[0m 3ms/step - loss: 1.1530 - mae: 0.4442 - mse: 1.1530\n"
          ]
        },
        {
          "output_type": "execute_result",
          "data": {
            "text/plain": [
              "[1.3558634519577026, 0.44958311319351196, 1.3558634519577026]"
            ]
          },
          "metadata": {},
          "execution_count": 325
        }
      ]
    },
    {
      "cell_type": "markdown",
      "source": [
        "### Adding dropout"
      ],
      "metadata": {
        "id": "NlrUS7yNXB9i"
      }
    },
    {
      "cell_type": "code",
      "source": [
        "model2 = Sequential()\n",
        "\n",
        "model2.add(Dense(64, activation='relu', input_dim=X_train_nn.shape[1]))  # Input layer\n",
        "model2.add(Dropout(0.5))\n",
        "model2.add(Dense(32, activation='relu'))  # Hidden layer\n",
        "model2.add(Dropout(0.5))\n",
        "model2.add(Dense(1))  # Output layer for regression"
      ],
      "metadata": {
        "colab": {
          "base_uri": "https://localhost:8080/"
        },
        "outputId": "a66ae524-2029-452c-bef7-d67f73caa2ef",
        "id": "sA0j321rXBcr"
      },
      "execution_count": 327,
      "outputs": [
        {
          "output_type": "stream",
          "name": "stderr",
          "text": [
            "/usr/local/lib/python3.10/dist-packages/keras/src/layers/core/dense.py:87: UserWarning: Do not pass an `input_shape`/`input_dim` argument to a layer. When using Sequential models, prefer using an `Input(shape)` object as the first layer in the model instead.\n",
            "  super().__init__(activity_regularizer=activity_regularizer, **kwargs)\n"
          ]
        }
      ]
    },
    {
      "cell_type": "code",
      "source": [
        "model2.compile(optimizer='adam', loss='mean_squared_error', metrics=['mae', 'mse'])"
      ],
      "metadata": {
        "id": "bh3dHM2LXBcs"
      },
      "execution_count": 328,
      "outputs": []
    },
    {
      "cell_type": "code",
      "source": [
        "history2 = model2.fit(X_train_nn, y_train_nn, validation_split=0.3, epochs=50, batch_size=64, callbacks=[early_stopping])"
      ],
      "metadata": {
        "collapsed": true,
        "id": "5_S_DdDIXBcs"
      },
      "execution_count": null,
      "outputs": []
    },
    {
      "cell_type": "code",
      "source": [
        "model2.evaluate(X_train_nn, y_train_nn)"
      ],
      "metadata": {
        "colab": {
          "base_uri": "https://localhost:8080/"
        },
        "id": "IBG3PRUFqIFs",
        "outputId": "b68a1c6d-c1a8-4d14-951f-2b74a145a518"
      },
      "execution_count": 330,
      "outputs": [
        {
          "output_type": "stream",
          "name": "stdout",
          "text": [
            "\u001b[1m329/329\u001b[0m \u001b[32m━━━━━━━━━━━━━━━━━━━━\u001b[0m\u001b[37m\u001b[0m \u001b[1m1s\u001b[0m 2ms/step - loss: 1.6690 - mae: 0.4485 - mse: 1.6690\n"
          ]
        },
        {
          "output_type": "execute_result",
          "data": {
            "text/plain": [
              "[2.2472739219665527, 0.4514590799808502, 2.2472739219665527]"
            ]
          },
          "metadata": {},
          "execution_count": 330
        }
      ]
    },
    {
      "cell_type": "code",
      "source": [
        "model2.evaluate(X_test_nn, y_test_nn)"
      ],
      "metadata": {
        "colab": {
          "base_uri": "https://localhost:8080/"
        },
        "id": "dXUpKxsBXWjb",
        "outputId": "e5d5f27d-4880-4e5c-9f60-0bc3b7b60cd8"
      },
      "execution_count": 331,
      "outputs": [
        {
          "output_type": "stream",
          "name": "stdout",
          "text": [
            "\u001b[1m83/83\u001b[0m \u001b[32m━━━━━━━━━━━━━━━━━━━━\u001b[0m\u001b[37m\u001b[0m \u001b[1m0s\u001b[0m 2ms/step - loss: 1.3482 - mae: 0.4499 - mse: 1.3482\n"
          ]
        },
        {
          "output_type": "execute_result",
          "data": {
            "text/plain": [
              "[1.800836443901062, 0.4613015353679657, 1.800836443901062]"
            ]
          },
          "metadata": {},
          "execution_count": 331
        }
      ]
    },
    {
      "cell_type": "markdown",
      "source": [
        "Great! Let's try to keep improving."
      ],
      "metadata": {
        "id": "axPHop-9fRnI"
      }
    },
    {
      "cell_type": "markdown",
      "source": [
        "### Adding another hidden layer"
      ],
      "metadata": {
        "id": "bxMuH7WAqkpU"
      }
    },
    {
      "cell_type": "code",
      "source": [
        "model3 = Sequential()\n",
        "\n",
        "model3.add(Dense(64, activation='relu', input_dim=X_train_nn.shape[1]))  # Input layer\n",
        "model3.add(Dropout(0.5))\n",
        "model3.add(Dense(32, activation='relu'))\n",
        "model3.add(Dropout(0.2))\n",
        "model3.add(Dense(32, activation='relu'))  # Hidden layer\n",
        "model3.add(Dense(1))  # Output layer for regression"
      ],
      "metadata": {
        "colab": {
          "base_uri": "https://localhost:8080/"
        },
        "outputId": "38f366db-17d4-43bf-83b0-5e2f31318b5e",
        "id": "hZMDV9nCfVzZ"
      },
      "execution_count": 333,
      "outputs": [
        {
          "output_type": "stream",
          "name": "stderr",
          "text": [
            "/usr/local/lib/python3.10/dist-packages/keras/src/layers/core/dense.py:87: UserWarning: Do not pass an `input_shape`/`input_dim` argument to a layer. When using Sequential models, prefer using an `Input(shape)` object as the first layer in the model instead.\n",
            "  super().__init__(activity_regularizer=activity_regularizer, **kwargs)\n"
          ]
        }
      ]
    },
    {
      "cell_type": "code",
      "source": [
        "model3.compile(optimizer='adam', loss='mean_squared_error', metrics=['mae', 'mse'])"
      ],
      "metadata": {
        "id": "1l2_jFZvfVzZ"
      },
      "execution_count": 334,
      "outputs": []
    },
    {
      "cell_type": "code",
      "source": [
        "history3 = model3.fit(X_train_nn, y_train_nn, validation_split=0.3, epochs=50, batch_size=64, callbacks=[early_stopping])"
      ],
      "metadata": {
        "collapsed": true,
        "id": "l9BfHbZMfVzZ"
      },
      "execution_count": null,
      "outputs": []
    },
    {
      "cell_type": "code",
      "source": [
        "model3.evaluate(X_train_nn, y_train_nn)"
      ],
      "metadata": {
        "colab": {
          "base_uri": "https://localhost:8080/"
        },
        "id": "9RuSUtEPoGLP",
        "outputId": "1b21a219-873b-441c-cc78-89a381f685ec"
      },
      "execution_count": 336,
      "outputs": [
        {
          "output_type": "stream",
          "name": "stdout",
          "text": [
            "\u001b[1m329/329\u001b[0m \u001b[32m━━━━━━━━━━━━━━━━━━━━\u001b[0m\u001b[37m\u001b[0m \u001b[1m1s\u001b[0m 2ms/step - loss: 1.6117 - mae: 0.4426 - mse: 1.6117\n"
          ]
        },
        {
          "output_type": "execute_result",
          "data": {
            "text/plain": [
              "[2.194077968597412, 0.445878267288208, 2.194077968597412]"
            ]
          },
          "metadata": {},
          "execution_count": 336
        }
      ]
    },
    {
      "cell_type": "code",
      "source": [
        "model3.evaluate(X_test_nn, y_test_nn)"
      ],
      "metadata": {
        "colab": {
          "base_uri": "https://localhost:8080/"
        },
        "id": "b9q9MK7hfbRF",
        "outputId": "452433ef-a850-4330-b982-6cae38fe546d"
      },
      "execution_count": 337,
      "outputs": [
        {
          "output_type": "stream",
          "name": "stdout",
          "text": [
            "\u001b[1m83/83\u001b[0m \u001b[32m━━━━━━━━━━━━━━━━━━━━\u001b[0m\u001b[37m\u001b[0m \u001b[1m0s\u001b[0m 2ms/step - loss: 1.2875 - mae: 0.4464 - mse: 1.2875\n"
          ]
        },
        {
          "output_type": "execute_result",
          "data": {
            "text/plain": [
              "[1.7550827264785767, 0.4587528109550476, 1.7550827264785767]"
            ]
          },
          "metadata": {},
          "execution_count": 337
        }
      ]
    },
    {
      "cell_type": "markdown",
      "source": [
        "### Increasing dropout after first layer"
      ],
      "metadata": {
        "id": "Y_-R-nUGrAnn"
      }
    },
    {
      "cell_type": "code",
      "source": [
        "model4 = Sequential()\n",
        "\n",
        "model4.add(Dense(64, activation='relu', input_dim=X_train_nn.shape[1]))  # Input layer\n",
        "model4.add(Dropout(0.5))\n",
        "model4.add(Dense(32, activation='relu'))\n",
        "model4.add(Dropout(0.5))\n",
        "model4.add(Dense(32, activation='relu'))  # Hidden layer\n",
        "model4.add(Dense(1))  # Output layer for regression"
      ],
      "metadata": {
        "colab": {
          "base_uri": "https://localhost:8080/"
        },
        "id": "XUfO_JIDf-Lo",
        "outputId": "0a4fed05-4d57-400d-9016-729fff2368cb"
      },
      "execution_count": 349,
      "outputs": [
        {
          "output_type": "stream",
          "name": "stderr",
          "text": [
            "/usr/local/lib/python3.10/dist-packages/keras/src/layers/core/dense.py:87: UserWarning: Do not pass an `input_shape`/`input_dim` argument to a layer. When using Sequential models, prefer using an `Input(shape)` object as the first layer in the model instead.\n",
            "  super().__init__(activity_regularizer=activity_regularizer, **kwargs)\n"
          ]
        }
      ]
    },
    {
      "cell_type": "code",
      "source": [
        "model4.compile(optimizer='adam', loss='mean_squared_error', metrics=['mae', 'mse'])"
      ],
      "metadata": {
        "id": "1ovC6zvPf-Lp"
      },
      "execution_count": 350,
      "outputs": []
    },
    {
      "cell_type": "code",
      "source": [
        "history4 = model4.fit(X_train_nn, y_train_nn, validation_split=0.3, epochs=50, batch_size=64, callbacks=[early_stopping])"
      ],
      "metadata": {
        "collapsed": true,
        "id": "rNc0uaBvf-Lp"
      },
      "execution_count": null,
      "outputs": []
    },
    {
      "cell_type": "code",
      "source": [
        "model4.evaluate(X_train_nn, y_train_nn)"
      ],
      "metadata": {
        "colab": {
          "base_uri": "https://localhost:8080/"
        },
        "id": "W72UHFByrMZ_",
        "outputId": "d4adf885-ec65-47e5-a331-3ac3feb498cf"
      },
      "execution_count": 352,
      "outputs": [
        {
          "output_type": "stream",
          "name": "stdout",
          "text": [
            "\u001b[1m329/329\u001b[0m \u001b[32m━━━━━━━━━━━━━━━━━━━━\u001b[0m\u001b[37m\u001b[0m \u001b[1m1s\u001b[0m 2ms/step - loss: 1.7021 - mae: 0.4826 - mse: 1.7021\n"
          ]
        },
        {
          "output_type": "execute_result",
          "data": {
            "text/plain": [
              "[2.282822608947754, 0.48534566164016724, 2.282822608947754]"
            ]
          },
          "metadata": {},
          "execution_count": 352
        }
      ]
    },
    {
      "cell_type": "code",
      "source": [
        "model4.evaluate(X_test_nn, y_test_nn)"
      ],
      "metadata": {
        "colab": {
          "base_uri": "https://localhost:8080/"
        },
        "outputId": "31000260-df3e-4b58-8a1d-b8177718d0ae",
        "id": "nJb7CgK8f-Lp"
      },
      "execution_count": 353,
      "outputs": [
        {
          "output_type": "stream",
          "name": "stdout",
          "text": [
            "\u001b[1m83/83\u001b[0m \u001b[32m━━━━━━━━━━━━━━━━━━━━\u001b[0m\u001b[37m\u001b[0m \u001b[1m0s\u001b[0m 2ms/step - loss: 1.3592 - mae: 0.4810 - mse: 1.3592\n"
          ]
        },
        {
          "output_type": "execute_result",
          "data": {
            "text/plain": [
              "[1.8234480619430542, 0.491789847612381, 1.8234480619430542]"
            ]
          },
          "metadata": {},
          "execution_count": 353
        }
      ]
    },
    {
      "cell_type": "markdown",
      "source": [
        "### Changing the shape of the input and hidden layers"
      ],
      "metadata": {
        "id": "gDg2CWQ6onm7"
      }
    },
    {
      "cell_type": "code",
      "source": [
        "model5 = Sequential()\n",
        "\n",
        "model5.add(Dense(100, activation='relu', input_dim=X_train_nn.shape[1]))  # Input layer\n",
        "model5.add(Dropout(0.5))\n",
        "model5.add(Dense(50, activation='relu'))  # Hidden layer\n",
        "model5.add(Dropout(0.5))\n",
        "model5.add(Dense(15, activation='relu'))  # Hidden layer\n",
        "model5.add(Dense(1))  # Output layer for regression"
      ],
      "metadata": {
        "colab": {
          "base_uri": "https://localhost:8080/"
        },
        "outputId": "4f4ea81c-6802-4558-b24e-826d00c03c79",
        "id": "V2jNnS4hoOn1"
      },
      "execution_count": 354,
      "outputs": [
        {
          "output_type": "stream",
          "name": "stderr",
          "text": [
            "/usr/local/lib/python3.10/dist-packages/keras/src/layers/core/dense.py:87: UserWarning: Do not pass an `input_shape`/`input_dim` argument to a layer. When using Sequential models, prefer using an `Input(shape)` object as the first layer in the model instead.\n",
            "  super().__init__(activity_regularizer=activity_regularizer, **kwargs)\n"
          ]
        }
      ]
    },
    {
      "cell_type": "code",
      "source": [
        "model5.compile(optimizer='adam', loss='mean_squared_error', metrics=['mae', 'mse'])"
      ],
      "metadata": {
        "id": "GjgFu9quoOn1"
      },
      "execution_count": 355,
      "outputs": []
    },
    {
      "cell_type": "code",
      "source": [
        "history5 = model5.fit(X_train_nn, y_train_nn, validation_split=0.3, epochs=50, batch_size=64, callbacks=[early_stopping])"
      ],
      "metadata": {
        "collapsed": true,
        "id": "KM9q8I20oOn1"
      },
      "execution_count": null,
      "outputs": []
    },
    {
      "cell_type": "code",
      "source": [
        "model5.evaluate(X_train_nn, y_train_nn)"
      ],
      "metadata": {
        "colab": {
          "base_uri": "https://localhost:8080/"
        },
        "id": "1TO1QI-3oerr",
        "outputId": "6559e24b-df99-4ec1-aa0c-6d8e8c035c4a"
      },
      "execution_count": 357,
      "outputs": [
        {
          "output_type": "stream",
          "name": "stdout",
          "text": [
            "\u001b[1m329/329\u001b[0m \u001b[32m━━━━━━━━━━━━━━━━━━━━\u001b[0m\u001b[37m\u001b[0m \u001b[1m1s\u001b[0m 2ms/step - loss: 1.6079 - mae: 0.4315 - mse: 1.6079\n"
          ]
        },
        {
          "output_type": "execute_result",
          "data": {
            "text/plain": [
              "[2.188674211502075, 0.4334506392478943, 2.188674211502075]"
            ]
          },
          "metadata": {},
          "execution_count": 357
        }
      ]
    },
    {
      "cell_type": "code",
      "source": [
        "model5.evaluate(X_test_nn, y_test_nn)"
      ],
      "metadata": {
        "colab": {
          "base_uri": "https://localhost:8080/"
        },
        "outputId": "ee1e6b52-6f56-4aa7-8238-41821638adf0",
        "id": "skJ1z_-joOn2"
      },
      "execution_count": 358,
      "outputs": [
        {
          "output_type": "stream",
          "name": "stdout",
          "text": [
            "\u001b[1m83/83\u001b[0m \u001b[32m━━━━━━━━━━━━━━━━━━━━\u001b[0m\u001b[37m\u001b[0m \u001b[1m0s\u001b[0m 2ms/step - loss: 1.2845 - mae: 0.4350 - mse: 1.2845\n"
          ]
        },
        {
          "output_type": "execute_result",
          "data": {
            "text/plain": [
              "[1.7510125637054443, 0.4466076195240021, 1.7510125637054443]"
            ]
          },
          "metadata": {},
          "execution_count": 358
        }
      ]
    },
    {
      "cell_type": "code",
      "source": [
        "model.save('models/model5_1.keras')"
      ],
      "metadata": {
        "id": "PnVfuKEDvlcq"
      },
      "execution_count": 287,
      "outputs": []
    },
    {
      "cell_type": "markdown",
      "source": [
        "### Changing learning rate (and removing early stopping)"
      ],
      "metadata": {
        "id": "MP6_graMopbw"
      }
    },
    {
      "cell_type": "code",
      "source": [
        "optimizer = tf.keras.optimizers.Adam(0.003)"
      ],
      "metadata": {
        "id": "M4Kkx56Us-nH"
      },
      "execution_count": 369,
      "outputs": []
    },
    {
      "cell_type": "code",
      "source": [
        "model6 = Sequential()\n",
        "\n",
        "model6.add(Dense(100, activation='relu', input_dim=X_train_nn.shape[1]))  # Input layer\n",
        "model6.add(Dropout(0.5))\n",
        "model6.add(Dense(50, activation='relu'))  # Hidden layer\n",
        "model6.add(Dropout(0.2))\n",
        "model6.add(Dense(1))  # Output layer for regression"
      ],
      "metadata": {
        "colab": {
          "base_uri": "https://localhost:8080/"
        },
        "outputId": "d19c5fe2-27f1-4ad6-c891-e9a739083d36",
        "id": "bbn6s4HcosKs"
      },
      "execution_count": 370,
      "outputs": [
        {
          "output_type": "stream",
          "name": "stderr",
          "text": [
            "/usr/local/lib/python3.10/dist-packages/keras/src/layers/core/dense.py:87: UserWarning: Do not pass an `input_shape`/`input_dim` argument to a layer. When using Sequential models, prefer using an `Input(shape)` object as the first layer in the model instead.\n",
            "  super().__init__(activity_regularizer=activity_regularizer, **kwargs)\n"
          ]
        }
      ]
    },
    {
      "cell_type": "code",
      "source": [
        "model6.compile(optimizer=optimizer, loss='mean_squared_error', metrics=['mae', 'mse'])"
      ],
      "metadata": {
        "id": "E5zgkBokosKs"
      },
      "execution_count": 371,
      "outputs": []
    },
    {
      "cell_type": "code",
      "source": [
        "history6 = model6.fit(X_train_nn, y_train_nn, validation_split=0.3, epochs=50, batch_size=64)"
      ],
      "metadata": {
        "collapsed": true,
        "id": "Bh2zhLWoosKs"
      },
      "execution_count": null,
      "outputs": []
    },
    {
      "cell_type": "code",
      "source": [
        "model6.evaluate(X_train_nn, y_train_nn)"
      ],
      "metadata": {
        "colab": {
          "base_uri": "https://localhost:8080/"
        },
        "outputId": "2727ae3d-ff1d-4179-ec25-9d59b9470bdb",
        "id": "alH7SqXEosKs"
      },
      "execution_count": 373,
      "outputs": [
        {
          "output_type": "stream",
          "name": "stdout",
          "text": [
            "\u001b[1m329/329\u001b[0m \u001b[32m━━━━━━━━━━━━━━━━━━━━\u001b[0m\u001b[37m\u001b[0m \u001b[1m1s\u001b[0m 2ms/step - loss: 0.5301 - mae: 0.3328 - mse: 0.5301\n"
          ]
        },
        {
          "output_type": "execute_result",
          "data": {
            "text/plain": [
              "[0.9318727850914001, 0.3569142520427704, 0.9318727850914001]"
            ]
          },
          "metadata": {},
          "execution_count": 373
        }
      ]
    },
    {
      "cell_type": "code",
      "source": [
        "model6.evaluate(X_test_nn, y_test_nn)"
      ],
      "metadata": {
        "colab": {
          "base_uri": "https://localhost:8080/"
        },
        "outputId": "7d826c5f-eb54-4852-8cd2-99674ce0116e",
        "id": "G1PIAA0TosKs"
      },
      "execution_count": 374,
      "outputs": [
        {
          "output_type": "stream",
          "name": "stdout",
          "text": [
            "\u001b[1m83/83\u001b[0m \u001b[32m━━━━━━━━━━━━━━━━━━━━\u001b[0m\u001b[37m\u001b[0m \u001b[1m0s\u001b[0m 2ms/step - loss: 1.0528 - mae: 0.4269 - mse: 1.0528\n"
          ]
        },
        {
          "output_type": "execute_result",
          "data": {
            "text/plain": [
              "[1.2899492979049683, 0.43281444907188416, 1.2899492979049683]"
            ]
          },
          "metadata": {},
          "execution_count": 374
        }
      ]
    },
    {
      "cell_type": "markdown",
      "source": [
        "### Adding in another hidden layer"
      ],
      "metadata": {
        "id": "r7EduA_V2C1q"
      }
    },
    {
      "cell_type": "code",
      "source": [
        "optimizer = tf.keras.optimizers.Adam(0.003)"
      ],
      "metadata": {
        "id": "smsCUQo62Kuu"
      },
      "execution_count": 388,
      "outputs": []
    },
    {
      "cell_type": "code",
      "source": [
        "model7 = Sequential()\n",
        "\n",
        "model7.add(Dense(100, activation='relu', input_dim=X_train_nn.shape[1]))  # Input layer\n",
        "model7.add(Dropout(0.5))\n",
        "model7.add(Dense(50, activation='relu'))  # Hidden layer\n",
        "model7.add(Dropout(0.2))\n",
        "model7.add(Dense(15, activation='relu'))  # Hidden layer\n",
        "model7.add(Dense(1))  # Output layer for regression"
      ],
      "metadata": {
        "id": "1tP1bnG_2Kuv"
      },
      "execution_count": null,
      "outputs": []
    },
    {
      "cell_type": "code",
      "source": [
        "model7.compile(optimizer=optimizer, loss='mean_squared_error', metrics=['mae', 'mse'])"
      ],
      "metadata": {
        "id": "8PWr4DSY2Kuv"
      },
      "execution_count": 390,
      "outputs": []
    },
    {
      "cell_type": "code",
      "source": [
        "history7 = model7.fit(X_train_nn, y_train_nn, validation_split=0.3, epochs=70, batch_size=30)"
      ],
      "metadata": {
        "collapsed": true,
        "id": "etZAbOzX2Kuv"
      },
      "execution_count": null,
      "outputs": []
    },
    {
      "cell_type": "code",
      "source": [
        "model7.evaluate(X_train_nn, y_train_nn)"
      ],
      "metadata": {
        "colab": {
          "base_uri": "https://localhost:8080/"
        },
        "outputId": "c56a9b25-556c-4013-8a7e-e9db13fdb311",
        "id": "CH0VBs3p2Kuv"
      },
      "execution_count": 395,
      "outputs": [
        {
          "output_type": "stream",
          "name": "stdout",
          "text": [
            "\u001b[1m329/329\u001b[0m \u001b[32m━━━━━━━━━━━━━━━━━━━━\u001b[0m\u001b[37m\u001b[0m \u001b[1m1s\u001b[0m 3ms/step - loss: 0.5453 - mae: 0.3271 - mse: 0.5453\n"
          ]
        },
        {
          "output_type": "execute_result",
          "data": {
            "text/plain": [
              "[1.0046710968017578, 0.3507961928844452, 1.0046710968017578]"
            ]
          },
          "metadata": {},
          "execution_count": 395
        }
      ]
    },
    {
      "cell_type": "code",
      "source": [
        "model7.evaluate(X_test_nn, y_test_nn)"
      ],
      "metadata": {
        "colab": {
          "base_uri": "https://localhost:8080/"
        },
        "outputId": "4ff62da5-ae95-4778-a87a-2e0d29e829dd",
        "id": "S-wQbGdk2Kuv"
      },
      "execution_count": 396,
      "outputs": [
        {
          "output_type": "stream",
          "name": "stdout",
          "text": [
            "\u001b[1m83/83\u001b[0m \u001b[32m━━━━━━━━━━━━━━━━━━━━\u001b[0m\u001b[37m\u001b[0m \u001b[1m0s\u001b[0m 3ms/step - loss: 1.0356 - mae: 0.4183 - mse: 1.0356\n"
          ]
        },
        {
          "output_type": "execute_result",
          "data": {
            "text/plain": [
              "[1.2859277725219727, 0.4281722903251648, 1.2859277725219727]"
            ]
          },
          "metadata": {},
          "execution_count": 396
        }
      ]
    },
    {
      "cell_type": "markdown",
      "source": [
        "### Plotting the loss for my best-performing NN model"
      ],
      "metadata": {
        "id": "C3yAudXy6-1v"
      }
    },
    {
      "cell_type": "markdown",
      "source": [
        "The best performing NN model is model6 (i.e. the second-to-last model), so I'll plot the history of its training to see how the loss evolved over time."
      ],
      "metadata": {
        "id": "8qIMQC_Y7Tgw"
      }
    },
    {
      "cell_type": "code",
      "source": [
        "# Plot the validation loss for my best-performing model\n",
        "plt.figure(figsize=(10, 6))\n",
        "plt.plot(history6.history['val_loss'], label='Validation Loss', color='blue')\n",
        "plt.plot(history6.history['loss'], label='Training Loss', color='orange')\n",
        "plt.title('Training and Validation Loss (MSE) Over Epochs')\n",
        "plt.xlabel('Epochs')\n",
        "plt.ylabel('Loss (MSE)')\n",
        "plt.legend()\n",
        "plt.grid()\n",
        "plt.show()"
      ],
      "metadata": {
        "colab": {
          "base_uri": "https://localhost:8080/",
          "height": 564
        },
        "id": "BDTeaMcd2jle",
        "outputId": "6a310cae-b5b6-475b-d1cf-da2fedfd264f"
      },
      "execution_count": 401,
      "outputs": [
        {
          "output_type": "display_data",
          "data": {
            "text/plain": [
              "<Figure size 1000x600 with 1 Axes>"
            ],
            "image/png": "[encoded data removed]"
          },
          "metadata": {}
        }
      ]
    }
  ]
}